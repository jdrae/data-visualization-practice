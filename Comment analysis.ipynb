{
 "cells": [
  {
   "cell_type": "code",
   "execution_count": 1,
   "metadata": {},
   "outputs": [],
   "source": [
    "import requests\n",
    "from bs4 import BeautifulSoup as bs\n",
    "import pandas as pd\n",
    "from tqdm import trange # to measure time"
   ]
  },
  {
   "cell_type": "markdown",
   "metadata": {},
   "source": [
    "Before crawling, check **/robots.txt** from domain url.\n",
    "\n",
    "(ex. movie.naver.com//robots.txt)"
   ]
  },
  {
   "cell_type": "markdown",
   "metadata": {},
   "source": [
    "In chrome dev tool, click 'copy selector' over the element which you want to crawl\n",
    "\n",
    "main > section > div > div > div.chitchats > div.chitchat-list > div:nth-child(2) > div > div.body.edit-chitchat"
   ]
  },
  {
   "cell_type": "code",
   "execution_count": 68,
   "metadata": {},
   "outputs": [],
   "source": [
    "base_url = \"https://movie.naver.com/movie/bi/mi/pointWriteFormList.nhn?code=151728&type=after&isActualPointWriteExecute=false&isMileageSubscriptionAlready=false&isMileageSubscriptionReject=false\"\n",
    "base_url = base_url + \"&page=\"\n",
    "\n",
    "comments = []\n",
    "\n",
    "def get_by_page(pagenum):\n",
    "    url = base_url + str(pagenum)\n",
    "    response = requests.get(url) # response is 200 if normal\n",
    "    soup = bs(response.content, 'html.parser') # loads every element in html page\n",
    "    content = soup.select(\".score_result .score_reple\")\n",
    "    \n",
    "    for i in range(10): # 10 comments in a page\n",
    "        comments.append(content[i].select(\"p\")[0].get_text(strip=True))\n",
    "        if pagenum == 1: # for test\n",
    "            print(comments[-1])\n",
    "            print('=========================')\n"
   ]
  },
  {
   "cell_type": "code",
   "execution_count": 69,
   "metadata": {},
   "outputs": [
    {
     "name": "stderr",
     "output_type": "stream",
     "text": [
      "  2%|▏         | 2/100 [00:00<00:07, 13.16it/s]"
     ]
    },
    {
     "name": "stdout",
     "output_type": "stream",
     "text": [
      "먼저 떠난 우리 아들도 저렇게 멋진데서 잘 지내길..평생 기억할께 꼭 다시 만나자\n",
      "=========================\n",
      "'신과 함께'와는 격이 다른 저승영화\n",
      "=========================\n",
      "박평식 : \"따뜻해, 삶을 껴안고 다독이는 죽음\" 박평식 평론가의 평점이 이렇게 공감된다니... 2018 최고의 애니메이션? 아니 이건 최고의 영화\n",
      "=========================\n",
      "관람객사람이 진정으로 죽는 순간은 사랑하는 사람에게 잊혀졌을때..사랑하는 사람들을 영원히 기억하고 나 또한 그 사람들에게 영원히 기억되길..Remember me..\n",
      "=========================\n",
      "사람은 3번 죽는다.숨이 멎는 순간 생물학 적으로 죽고, 장례식에 온 하객들이 떠나갈  때 사회적으로 죽고 그 사람을 기억하는 마지막 사람이 죽으면 그것이 진정한 죽음이라는것을 코코를 보고 알게되었다.\n",
      "=========================\n",
      "내일 죽는다면 오늘 봐야할 영화\n",
      "=========================\n",
      "마지막에 코코 할머니 손잡고 울면서 기억해줘 노래부를때 정말 심각하게 슬펐네요...ㅠㅠ\n",
      "=========================\n",
      "픽사는 우리를 배신하지 않아...\n",
      "=========================\n",
      "remember me... 내가 나중에 죽는다면 사후세계에 갔을때 울엄마아빠가 나 마중나와 있어주면 좋겠다.... 엄마아빠 사랑해\n",
      "=========================\n",
      "픽사 역대급 애니다... 평식이도 8점줬다? 긴말 필요없다 이건 영화관 꼭 가서 보즈아!!!\n",
      "=========================\n"
     ]
    },
    {
     "name": "stderr",
     "output_type": "stream",
     "text": [
      "100%|██████████| 100/100 [00:07<00:00, 12.87it/s]"
     ]
    },
    {
     "name": "stdout",
     "output_type": "stream",
     "text": [
      "1000\n"
     ]
    },
    {
     "name": "stderr",
     "output_type": "stream",
     "text": [
      "\n"
     ]
    }
   ],
   "source": [
    "for i in trange(1,101):\n",
    "    get_by_page(i)\n",
    "\n",
    "print(len(comments))"
   ]
  },
  {
   "cell_type": "code",
   "execution_count": 70,
   "metadata": {},
   "outputs": [
    {
     "data": {
      "text/plain": [
       "(1000, 1)"
      ]
     },
     "execution_count": 70,
     "metadata": {},
     "output_type": "execute_result"
    }
   ],
   "source": [
    "orgdf = pd.DataFrame({\"text\": comments})\n",
    "orgdf.shape"
   ]
  },
  {
   "cell_type": "code",
   "execution_count": 72,
   "metadata": {},
   "outputs": [],
   "source": [
    "orgdf.to_csv(\"data/coco-movie-review.csv\", index=False)"
   ]
  },
  {
   "cell_type": "code",
   "execution_count": 73,
   "metadata": {},
   "outputs": [],
   "source": [
    "df = pd.read_csv(\"data/coco-movie-review.csv\")"
   ]
  },
  {
   "cell_type": "code",
   "execution_count": 74,
   "metadata": {},
   "outputs": [],
   "source": [
    "import numpy as np\n",
    "import re\n",
    "import matplotlib.pyplot as plt\n",
    "#matplotlib settings\n",
    "%matplotlib inline\n",
    "%config InlineBackend.figure_format='retina'\n",
    "plt.rc(\"font\", family=\"Malgun Gothic\")\n",
    "plt.rc('axes', unicode_minus=False)"
   ]
  },
  {
   "cell_type": "code",
   "execution_count": 75,
   "metadata": {},
   "outputs": [
    {
     "name": "stdout",
     "output_type": "stream",
     "text": [
      "(1000, 1)\n",
      "(995, 1)\n"
     ]
    }
   ],
   "source": [
    "# delete duplicated comments. keeps last one\n",
    "print(df.shape)\n",
    "df = df.drop_duplicates([\"text\"], keep=\"last\")\n",
    "print(df.shape)"
   ]
  },
  {
   "cell_type": "code",
   "execution_count": 76,
   "metadata": {},
   "outputs": [
    {
     "data": {
      "text/html": [
       "<div>\n",
       "<style scoped>\n",
       "    .dataframe tbody tr th:only-of-type {\n",
       "        vertical-align: middle;\n",
       "    }\n",
       "\n",
       "    .dataframe tbody tr th {\n",
       "        vertical-align: top;\n",
       "    }\n",
       "\n",
       "    .dataframe thead th {\n",
       "        text-align: right;\n",
       "    }\n",
       "</style>\n",
       "<table border=\"1\" class=\"dataframe\">\n",
       "  <thead>\n",
       "    <tr style=\"text-align: right;\">\n",
       "      <th></th>\n",
       "      <th>text</th>\n",
       "      <th>origin_text</th>\n",
       "    </tr>\n",
       "  </thead>\n",
       "  <tbody>\n",
       "    <tr>\n",
       "      <th>0</th>\n",
       "      <td>먼저 떠난 우리 아들도 저렇게 멋진데서 잘 지내길..평생 기억할께 꼭 다시 만나자</td>\n",
       "      <td>먼저 떠난 우리 아들도 저렇게 멋진데서 잘 지내길..평생 기억할께 꼭 다시 만나자</td>\n",
       "    </tr>\n",
       "    <tr>\n",
       "      <th>1</th>\n",
       "      <td>'신과 함께'와는 격이 다른 저승영화</td>\n",
       "      <td>'신과 함께'와는 격이 다른 저승영화</td>\n",
       "    </tr>\n",
       "    <tr>\n",
       "      <th>2</th>\n",
       "      <td>박평식 : \"따뜻해, 삶을 껴안고 다독이는 죽음\" 박평식 평론가의 평점이 이렇게 공...</td>\n",
       "      <td>박평식 : \"따뜻해, 삶을 껴안고 다독이는 죽음\" 박평식 평론가의 평점이 이렇게 공...</td>\n",
       "    </tr>\n",
       "    <tr>\n",
       "      <th>3</th>\n",
       "      <td>관람객사람이 진정으로 죽는 순간은 사랑하는 사람에게 잊혀졌을때..사랑하는 사람들을 ...</td>\n",
       "      <td>관람객사람이 진정으로 죽는 순간은 사랑하는 사람에게 잊혀졌을때..사랑하는 사람들을 ...</td>\n",
       "    </tr>\n",
       "    <tr>\n",
       "      <th>4</th>\n",
       "      <td>사람은 3번 죽는다.숨이 멎는 순간 생물학 적으로 죽고, 장례식에 온 하객들이 떠나...</td>\n",
       "      <td>사람은 3번 죽는다.숨이 멎는 순간 생물학 적으로 죽고, 장례식에 온 하객들이 떠나...</td>\n",
       "    </tr>\n",
       "  </tbody>\n",
       "</table>\n",
       "</div>"
      ],
      "text/plain": [
       "                                                text  \\\n",
       "0      먼저 떠난 우리 아들도 저렇게 멋진데서 잘 지내길..평생 기억할께 꼭 다시 만나자   \n",
       "1                               '신과 함께'와는 격이 다른 저승영화   \n",
       "2  박평식 : \"따뜻해, 삶을 껴안고 다독이는 죽음\" 박평식 평론가의 평점이 이렇게 공...   \n",
       "3  관람객사람이 진정으로 죽는 순간은 사랑하는 사람에게 잊혀졌을때..사랑하는 사람들을 ...   \n",
       "4  사람은 3번 죽는다.숨이 멎는 순간 생물학 적으로 죽고, 장례식에 온 하객들이 떠나...   \n",
       "\n",
       "                                         origin_text  \n",
       "0      먼저 떠난 우리 아들도 저렇게 멋진데서 잘 지내길..평생 기억할께 꼭 다시 만나자  \n",
       "1                               '신과 함께'와는 격이 다른 저승영화  \n",
       "2  박평식 : \"따뜻해, 삶을 껴안고 다독이는 죽음\" 박평식 평론가의 평점이 이렇게 공...  \n",
       "3  관람객사람이 진정으로 죽는 순간은 사랑하는 사람에게 잊혀졌을때..사랑하는 사람들을 ...  \n",
       "4  사람은 3번 죽는다.숨이 멎는 순간 생물학 적으로 죽고, 장례식에 온 하객들이 떠나...  "
      ]
     },
     "execution_count": 76,
     "metadata": {},
     "output_type": "execute_result"
    }
   ],
   "source": [
    "df[\"origin_text\"] = df[\"text\"]\n",
    "df.head()"
   ]
  },
  {
   "cell_type": "code",
   "execution_count": 98,
   "metadata": {},
   "outputs": [
    {
     "data": {
      "text/plain": [
       "(994, 12)"
      ]
     },
     "execution_count": 98,
     "metadata": {},
     "output_type": "execute_result"
    }
   ],
   "source": [
    "df.dropna().shape"
   ]
  },
  {
   "cell_type": "code",
   "execution_count": 99,
   "metadata": {},
   "outputs": [],
   "source": [
    "df[\"text\"] = df[\"text\"].str.lower()"
   ]
  },
  {
   "cell_type": "code",
   "execution_count": 100,
   "metadata": {},
   "outputs": [
    {
     "data": {
      "text/html": [
       "<div>\n",
       "<style scoped>\n",
       "    .dataframe tbody tr th:only-of-type {\n",
       "        vertical-align: middle;\n",
       "    }\n",
       "\n",
       "    .dataframe tbody tr th {\n",
       "        vertical-align: top;\n",
       "    }\n",
       "\n",
       "    .dataframe thead th {\n",
       "        text-align: right;\n",
       "    }\n",
       "</style>\n",
       "<table border=\"1\" class=\"dataframe\">\n",
       "  <thead>\n",
       "    <tr style=\"text-align: right;\">\n",
       "      <th></th>\n",
       "      <th>text</th>\n",
       "      <th>origin_text</th>\n",
       "      <th>감동</th>\n",
       "      <th>사랑</th>\n",
       "      <th>죽음</th>\n",
       "      <th>울</th>\n",
       "      <th>할머니</th>\n",
       "      <th>아이</th>\n",
       "      <th>노래</th>\n",
       "      <th>픽사</th>\n",
       "      <th>추억</th>\n",
       "      <th>눈물</th>\n",
       "    </tr>\n",
       "  </thead>\n",
       "  <tbody>\n",
       "    <tr>\n",
       "      <th>0</th>\n",
       "      <td>먼저 떠난 우리 아들도 저렇게 멋진데서 잘 지내길..평생 기억할께 꼭 다시 만나자</td>\n",
       "      <td>먼저 떠난 우리 아들도 저렇게 멋진데서 잘 지내길..평생 기억할께 꼭 다시 만나자</td>\n",
       "      <td>False</td>\n",
       "      <td>False</td>\n",
       "      <td>False</td>\n",
       "      <td>False</td>\n",
       "      <td>False</td>\n",
       "      <td>False</td>\n",
       "      <td>False</td>\n",
       "      <td>False</td>\n",
       "      <td>False</td>\n",
       "      <td>False</td>\n",
       "    </tr>\n",
       "    <tr>\n",
       "      <th>1</th>\n",
       "      <td>'신과 함께'와는 격이 다른 저승영화</td>\n",
       "      <td>'신과 함께'와는 격이 다른 저승영화</td>\n",
       "      <td>False</td>\n",
       "      <td>False</td>\n",
       "      <td>False</td>\n",
       "      <td>False</td>\n",
       "      <td>False</td>\n",
       "      <td>False</td>\n",
       "      <td>False</td>\n",
       "      <td>False</td>\n",
       "      <td>False</td>\n",
       "      <td>False</td>\n",
       "    </tr>\n",
       "    <tr>\n",
       "      <th>2</th>\n",
       "      <td>박평식 : \"따뜻해, 삶을 껴안고 다독이는 죽음\" 박평식 평론가의 평점이 이렇게 공...</td>\n",
       "      <td>박평식 : \"따뜻해, 삶을 껴안고 다독이는 죽음\" 박평식 평론가의 평점이 이렇게 공...</td>\n",
       "      <td>False</td>\n",
       "      <td>False</td>\n",
       "      <td>True</td>\n",
       "      <td>False</td>\n",
       "      <td>False</td>\n",
       "      <td>False</td>\n",
       "      <td>False</td>\n",
       "      <td>False</td>\n",
       "      <td>False</td>\n",
       "      <td>False</td>\n",
       "    </tr>\n",
       "    <tr>\n",
       "      <th>3</th>\n",
       "      <td>관람객사람이 진정으로 죽는 순간은 사랑하는 사람에게 잊혀졌을때..사랑하는 사람들을 ...</td>\n",
       "      <td>관람객사람이 진정으로 죽는 순간은 사랑하는 사람에게 잊혀졌을때..사랑하는 사람들을 ...</td>\n",
       "      <td>False</td>\n",
       "      <td>True</td>\n",
       "      <td>False</td>\n",
       "      <td>False</td>\n",
       "      <td>False</td>\n",
       "      <td>False</td>\n",
       "      <td>False</td>\n",
       "      <td>False</td>\n",
       "      <td>False</td>\n",
       "      <td>False</td>\n",
       "    </tr>\n",
       "    <tr>\n",
       "      <th>4</th>\n",
       "      <td>사람은 3번 죽는다.숨이 멎는 순간 생물학 적으로 죽고, 장례식에 온 하객들이 떠나...</td>\n",
       "      <td>사람은 3번 죽는다.숨이 멎는 순간 생물학 적으로 죽고, 장례식에 온 하객들이 떠나...</td>\n",
       "      <td>False</td>\n",
       "      <td>False</td>\n",
       "      <td>True</td>\n",
       "      <td>False</td>\n",
       "      <td>False</td>\n",
       "      <td>False</td>\n",
       "      <td>False</td>\n",
       "      <td>False</td>\n",
       "      <td>False</td>\n",
       "      <td>False</td>\n",
       "    </tr>\n",
       "  </tbody>\n",
       "</table>\n",
       "</div>"
      ],
      "text/plain": [
       "                                                text  \\\n",
       "0      먼저 떠난 우리 아들도 저렇게 멋진데서 잘 지내길..평생 기억할께 꼭 다시 만나자   \n",
       "1                               '신과 함께'와는 격이 다른 저승영화   \n",
       "2  박평식 : \"따뜻해, 삶을 껴안고 다독이는 죽음\" 박평식 평론가의 평점이 이렇게 공...   \n",
       "3  관람객사람이 진정으로 죽는 순간은 사랑하는 사람에게 잊혀졌을때..사랑하는 사람들을 ...   \n",
       "4  사람은 3번 죽는다.숨이 멎는 순간 생물학 적으로 죽고, 장례식에 온 하객들이 떠나...   \n",
       "\n",
       "                                         origin_text     감동     사랑     죽음  \\\n",
       "0      먼저 떠난 우리 아들도 저렇게 멋진데서 잘 지내길..평생 기억할께 꼭 다시 만나자  False  False  False   \n",
       "1                               '신과 함께'와는 격이 다른 저승영화  False  False  False   \n",
       "2  박평식 : \"따뜻해, 삶을 껴안고 다독이는 죽음\" 박평식 평론가의 평점이 이렇게 공...  False  False   True   \n",
       "3  관람객사람이 진정으로 죽는 순간은 사랑하는 사람에게 잊혀졌을때..사랑하는 사람들을 ...  False   True  False   \n",
       "4  사람은 3번 죽는다.숨이 멎는 순간 생물학 적으로 죽고, 장례식에 온 하객들이 떠나...  False  False   True   \n",
       "\n",
       "       울    할머니     아이     노래     픽사     추억     눈물  \n",
       "0  False  False  False  False  False  False  False  \n",
       "1  False  False  False  False  False  False  False  \n",
       "2  False  False  False  False  False  False  False  \n",
       "3  False  False  False  False  False  False  False  \n",
       "4  False  False  False  False  False  False  False  "
      ]
     },
     "execution_count": 100,
     "metadata": {},
     "output_type": "execute_result"
    }
   ],
   "source": [
    "search_keyword = ['감동', '사랑', '죽음', '울', \n",
    "                  '할머니', '아이', '노래', '픽사', \n",
    "                  '추억', '눈물']\n",
    "for keyword in search_keyword:\n",
    "    df[keyword] = df[\"text\"].str.contains(keyword)\n",
    "df.head()"
   ]
  },
  {
   "cell_type": "code",
   "execution_count": 101,
   "metadata": {},
   "outputs": [
    {
     "data": {
      "text/plain": [
       "0      False\n",
       "1      False\n",
       "2       True\n",
       "3      False\n",
       "4       True\n",
       "       ...  \n",
       "995    False\n",
       "996    False\n",
       "997    False\n",
       "998    False\n",
       "999     True\n",
       "Name: text, Length: 995, dtype: object"
      ]
     },
     "execution_count": 101,
     "metadata": {},
     "output_type": "execute_result"
    }
   ],
   "source": [
    "df[\"text\"].str.contains(\"죽음\")"
   ]
  },
  {
   "cell_type": "code",
   "execution_count": 103,
   "metadata": {},
   "outputs": [
    {
     "data": {
      "text/plain": [
       "(57, 12)"
      ]
     },
     "execution_count": 103,
     "metadata": {},
     "output_type": "execute_result"
    }
   ],
   "source": [
    "# setting flag na=False to prevent error:\n",
    "# Cannot mask with non-boolean array containing NA\n",
    "df_python = df[df[\"text\"].str.contains(\"죽음|추억\", na = False)].copy()\n",
    "df_python.shape"
   ]
  },
  {
   "cell_type": "code",
   "execution_count": 104,
   "metadata": {},
   "outputs": [
    {
     "data": {
      "text/html": [
       "<div>\n",
       "<style scoped>\n",
       "    .dataframe tbody tr th:only-of-type {\n",
       "        vertical-align: middle;\n",
       "    }\n",
       "\n",
       "    .dataframe tbody tr th {\n",
       "        vertical-align: top;\n",
       "    }\n",
       "\n",
       "    .dataframe thead th {\n",
       "        text-align: right;\n",
       "    }\n",
       "</style>\n",
       "<table border=\"1\" class=\"dataframe\">\n",
       "  <thead>\n",
       "    <tr style=\"text-align: right;\">\n",
       "      <th></th>\n",
       "      <th>감동</th>\n",
       "      <th>사랑</th>\n",
       "      <th>죽음</th>\n",
       "      <th>울</th>\n",
       "      <th>할머니</th>\n",
       "      <th>아이</th>\n",
       "      <th>노래</th>\n",
       "      <th>픽사</th>\n",
       "      <th>추억</th>\n",
       "      <th>눈물</th>\n",
       "    </tr>\n",
       "  </thead>\n",
       "  <tbody>\n",
       "    <tr>\n",
       "      <th>0</th>\n",
       "      <td>False</td>\n",
       "      <td>False</td>\n",
       "      <td>False</td>\n",
       "      <td>False</td>\n",
       "      <td>False</td>\n",
       "      <td>False</td>\n",
       "      <td>False</td>\n",
       "      <td>False</td>\n",
       "      <td>False</td>\n",
       "      <td>False</td>\n",
       "    </tr>\n",
       "    <tr>\n",
       "      <th>1</th>\n",
       "      <td>False</td>\n",
       "      <td>False</td>\n",
       "      <td>False</td>\n",
       "      <td>False</td>\n",
       "      <td>False</td>\n",
       "      <td>False</td>\n",
       "      <td>False</td>\n",
       "      <td>False</td>\n",
       "      <td>False</td>\n",
       "      <td>False</td>\n",
       "    </tr>\n",
       "    <tr>\n",
       "      <th>2</th>\n",
       "      <td>False</td>\n",
       "      <td>False</td>\n",
       "      <td>True</td>\n",
       "      <td>False</td>\n",
       "      <td>False</td>\n",
       "      <td>False</td>\n",
       "      <td>False</td>\n",
       "      <td>False</td>\n",
       "      <td>False</td>\n",
       "      <td>False</td>\n",
       "    </tr>\n",
       "    <tr>\n",
       "      <th>3</th>\n",
       "      <td>False</td>\n",
       "      <td>True</td>\n",
       "      <td>False</td>\n",
       "      <td>False</td>\n",
       "      <td>False</td>\n",
       "      <td>False</td>\n",
       "      <td>False</td>\n",
       "      <td>False</td>\n",
       "      <td>False</td>\n",
       "      <td>False</td>\n",
       "    </tr>\n",
       "    <tr>\n",
       "      <th>4</th>\n",
       "      <td>False</td>\n",
       "      <td>False</td>\n",
       "      <td>True</td>\n",
       "      <td>False</td>\n",
       "      <td>False</td>\n",
       "      <td>False</td>\n",
       "      <td>False</td>\n",
       "      <td>False</td>\n",
       "      <td>False</td>\n",
       "      <td>False</td>\n",
       "    </tr>\n",
       "    <tr>\n",
       "      <th>...</th>\n",
       "      <td>...</td>\n",
       "      <td>...</td>\n",
       "      <td>...</td>\n",
       "      <td>...</td>\n",
       "      <td>...</td>\n",
       "      <td>...</td>\n",
       "      <td>...</td>\n",
       "      <td>...</td>\n",
       "      <td>...</td>\n",
       "      <td>...</td>\n",
       "    </tr>\n",
       "    <tr>\n",
       "      <th>995</th>\n",
       "      <td>False</td>\n",
       "      <td>False</td>\n",
       "      <td>False</td>\n",
       "      <td>True</td>\n",
       "      <td>False</td>\n",
       "      <td>False</td>\n",
       "      <td>False</td>\n",
       "      <td>True</td>\n",
       "      <td>False</td>\n",
       "      <td>False</td>\n",
       "    </tr>\n",
       "    <tr>\n",
       "      <th>996</th>\n",
       "      <td>True</td>\n",
       "      <td>False</td>\n",
       "      <td>False</td>\n",
       "      <td>True</td>\n",
       "      <td>False</td>\n",
       "      <td>False</td>\n",
       "      <td>False</td>\n",
       "      <td>False</td>\n",
       "      <td>False</td>\n",
       "      <td>False</td>\n",
       "    </tr>\n",
       "    <tr>\n",
       "      <th>997</th>\n",
       "      <td>False</td>\n",
       "      <td>False</td>\n",
       "      <td>False</td>\n",
       "      <td>False</td>\n",
       "      <td>False</td>\n",
       "      <td>True</td>\n",
       "      <td>False</td>\n",
       "      <td>False</td>\n",
       "      <td>False</td>\n",
       "      <td>False</td>\n",
       "    </tr>\n",
       "    <tr>\n",
       "      <th>998</th>\n",
       "      <td>True</td>\n",
       "      <td>False</td>\n",
       "      <td>False</td>\n",
       "      <td>False</td>\n",
       "      <td>False</td>\n",
       "      <td>False</td>\n",
       "      <td>False</td>\n",
       "      <td>False</td>\n",
       "      <td>False</td>\n",
       "      <td>True</td>\n",
       "    </tr>\n",
       "    <tr>\n",
       "      <th>999</th>\n",
       "      <td>True</td>\n",
       "      <td>False</td>\n",
       "      <td>True</td>\n",
       "      <td>False</td>\n",
       "      <td>False</td>\n",
       "      <td>False</td>\n",
       "      <td>False</td>\n",
       "      <td>False</td>\n",
       "      <td>False</td>\n",
       "      <td>False</td>\n",
       "    </tr>\n",
       "  </tbody>\n",
       "</table>\n",
       "<p>995 rows × 10 columns</p>\n",
       "</div>"
      ],
      "text/plain": [
       "        감동     사랑     죽음      울    할머니     아이     노래     픽사     추억     눈물\n",
       "0    False  False  False  False  False  False  False  False  False  False\n",
       "1    False  False  False  False  False  False  False  False  False  False\n",
       "2    False  False   True  False  False  False  False  False  False  False\n",
       "3    False   True  False  False  False  False  False  False  False  False\n",
       "4    False  False   True  False  False  False  False  False  False  False\n",
       "..     ...    ...    ...    ...    ...    ...    ...    ...    ...    ...\n",
       "995  False  False  False   True  False  False  False   True  False  False\n",
       "996   True  False  False   True  False  False  False  False  False  False\n",
       "997  False  False  False  False  False   True  False  False  False  False\n",
       "998   True  False  False  False  False  False  False  False  False   True\n",
       "999   True  False   True  False  False  False  False  False  False  False\n",
       "\n",
       "[995 rows x 10 columns]"
      ]
     },
     "execution_count": 104,
     "metadata": {},
     "output_type": "execute_result"
    }
   ],
   "source": [
    "df[search_keyword]"
   ]
  },
  {
   "cell_type": "code",
   "execution_count": 105,
   "metadata": {},
   "outputs": [
    {
     "data": {
      "text/plain": [
       "감동     216.0\n",
       "울      196.0\n",
       "눈물     128.0\n",
       "아이      66.0\n",
       "노래      62.0\n",
       "픽사      60.0\n",
       "죽음      55.0\n",
       "사랑      53.0\n",
       "할머니     51.0\n",
       "추억       4.0\n",
       "dtype: float64"
      ]
     },
     "execution_count": 105,
     "metadata": {},
     "output_type": "execute_result"
    }
   ],
   "source": [
    "df[search_keyword].sum().sort_values(ascending=False)"
   ]
  },
  {
   "cell_type": "code",
   "execution_count": 106,
   "metadata": {},
   "outputs": [
    {
     "name": "stdout",
     "output_type": "stream",
     "text": [
      "--------------------\n",
      "이 세상에서 더 이상 나를 기억하고 추억하는 이가 없다면 사후세계에서조차 사라지는 영원한 죽음을 맞이한다는게 서글펐다. 멕시코와 한국의 조상에 대한 정서와 추모 문화가 비슷하다는게 인상적.\n",
      "--------------------\n",
      "관람객리멤버미...너무나도 큰 감동을 얻고 울면서 극장을 나왔네요 문화는 달라도 죽은 이를 추억하는 그 마음은 동일함에 크나큰 감동을 느꼈습니다 여러번 볼 생각이에요 정말 좋은 영화입니다 :)\n",
      "--------------------\n",
      "떠난 사람들도 떠나 보낸 사람들도 기억해줘요... 이 순간에도 추억이라는 따뜻한 얼굴로 가슴속에 남아 있다는 것을.\n",
      "--------------------\n",
      "죽음을 넘어선 그 곳에서 다시 한 번 가족과 용서와 사랑을. 추억을.\n"
     ]
    }
   ],
   "source": [
    "text = df.loc[(df[\"추억\"] == True), \"text\"]\n",
    "for t in text:\n",
    "    print(\"-\"*20)\n",
    "    print(t)"
   ]
  },
  {
   "cell_type": "code",
   "execution_count": null,
   "metadata": {},
   "outputs": [],
   "source": []
  }
 ],
 "metadata": {
  "kernelspec": {
   "display_name": "Python 3",
   "language": "python",
   "name": "python3"
  },
  "language_info": {
   "codemirror_mode": {
    "name": "ipython",
    "version": 3
   },
   "file_extension": ".py",
   "mimetype": "text/x-python",
   "name": "python",
   "nbconvert_exporter": "python",
   "pygments_lexer": "ipython3",
   "version": "3.8.3"
  }
 },
 "nbformat": 4,
 "nbformat_minor": 4
}
