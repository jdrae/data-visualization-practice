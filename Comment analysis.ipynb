{
 "cells": [
  {
   "cell_type": "code",
   "execution_count": 1,
   "metadata": {},
   "outputs": [],
   "source": [
    "import requests\n",
    "from bs4 import BeautifulSoup as bs\n",
    "import pandas as pd\n",
    "from tqdm import trange # to measure time"
   ]
  },
  {
   "cell_type": "markdown",
   "metadata": {},
   "source": [
    "Before crawling, check **/robots.txt** from domain url.\n",
    "\n",
    "(ex. www.inflearn.com/robots.txt)"
   ]
  },
  {
   "cell_type": "code",
   "execution_count": 2,
   "metadata": {},
   "outputs": [
    {
     "data": {
      "text/plain": [
       "<Response [200]>"
      ]
     },
     "execution_count": 2,
     "metadata": {},
     "output_type": "execute_result"
    }
   ],
   "source": [
    "base_url = \"https://www.inflearn.com/pages/newyear-event-20200102\"\n",
    "response = requests.get(base_url)\n",
    "response # response is 200 if normal"
   ]
  },
  {
   "cell_type": "code",
   "execution_count": 3,
   "metadata": {},
   "outputs": [],
   "source": [
    "# response.text # loads every element in html page\n",
    "soup = bs(response.text, 'html.parser')"
   ]
  },
  {
   "cell_type": "markdown",
   "metadata": {},
   "source": [
    "In chrome dev tool, click 'copy selector' over the element which you want to crawl\n",
    "\n",
    "main > section > div > div > div.chitchats > div.chitchat-list > div:nth-child(2) > div > div.body.edit-chitchat"
   ]
  },
  {
   "cell_type": "code",
   "execution_count": 4,
   "metadata": {},
   "outputs": [
    {
     "data": {
      "text/plain": [
       "<div class=\"chitchat-item\">\n",
       "<figure class=\"image is-48x48\">\n",
       "<img alt=\"인프런\" class=\"user_thumb is-rounded\" src=\"https://cdn.inflearn.com/wp-content/uploads/avatars/17/b415d9fa24d186c4adf22ca9a49116b5-bpfull.png\"/>\n",
       "</figure>\n",
       "<div class=\"content\">\n",
       "<div class=\"author\">\n",
       "<span class=\"author_name\">인프런</span>\n",
       "<time class=\"created_at\" datetime=\"Sun Dec 29 2019 17:59:00 GMT+0900 (GMT+09:00)\">⋅ 7개월 전</time>\n",
       "<a class=\"update-chitchat edit-chitchat is-hidden\" data-id=\"18594\" type=\"button\">저장</a>\n",
       "<a class=\"hidden-editor edit-chitchat is-hidden\" type=\"button\">취소</a>\n",
       "<a class=\"edit-chitchat no_cmt_reply\" type=\"button\">답글달기</a>\n",
       "</div>\n",
       "<div class=\"body edit-chitchat\">인프런 0호 팀원이에요!\n",
       "그동안 서비스 개발 때문에 js 를 많이 했었는데 앞으론 통계나 분석을 많이 하고 싶어서 파이썬을 공부하고 싶어요! 올해 파이썬 마스터가 되는걸로..\n",
       "#관심강의: 남박사의 파이썬 활용</div>\n",
       "<textarea class=\"textarea edit-chitchat is-hidden\"></textarea>\n",
       "<div class=\"summary_comments\">\n",
       "</div>\n",
       "<div class=\"chitchats_and_editor is-hidden\">\n",
       "<div class=\"chitchat-comment-list\">\n",
       "</div>\n",
       "<div class=\"cmt-editor\">\n",
       "<div class=\"field\">\n",
       "<textarea class=\"textarea\" placeholder=\"내용을 입력해 주세요.\"></textarea>\n",
       "</div>\n",
       "<button class=\"insert-chitchat-cmt button\" data-post_id=\"18594\" type=\"button\">등록</button>\n",
       "</div>\n",
       "</div>\n",
       "</div>\n",
       "</div>"
      ]
     },
     "execution_count": 4,
     "metadata": {},
     "output_type": "execute_result"
    }
   ],
   "source": [
    "content = soup.select(\"main > section > div > div > div.chitchats > div.chitchat-list > div\")\n",
    "content[-1] # last element means first comment"
   ]
  },
  {
   "cell_type": "code",
   "execution_count": 5,
   "metadata": {},
   "outputs": [
    {
     "data": {
      "text/plain": [
       "'인프런 0호 팀원이에요!\\n그동안 서비스 개발 때문에 js 를 많이 했었는데 앞으론 통계나 분석을 많이 하고 싶어서 파이썬을 공부하고 싶어요! 올해 파이썬 마스터가 되는걸로..\\n#관심강의: 남박사의 파이썬 활용'"
      ]
     },
     "execution_count": 5,
     "metadata": {},
     "output_type": "execute_result"
    }
   ],
   "source": [
    "chitchat = content[-1].select(\"div.body.edit-chitchat\")[0].get_text(strip = True)\n",
    "chitchat"
   ]
  },
  {
   "cell_type": "code",
   "execution_count": 6,
   "metadata": {},
   "outputs": [
    {
     "name": "stdout",
     "output_type": "stream",
     "text": [
      "--------\n",
      "2020년 목표: 스프링 열심히 공부하서 직장에서 사랑받고 싶어요!!\n",
      "관심 있는 강의 : 스프링 웹 MVC\n",
      "--------\n",
      "2020년 목표: C++ 열심히 공부해서, 학교에서 꼭 A 맞기..!! \n",
      "관심있는 강의: 따배씨 C++\n",
      "--------\n",
      "2020년 목표 : 리액트 공부하기\n",
      "--------\n",
      "40대 프로그래밍 시작! : 우리를 위한 프로그래밍 : 파이썬 중급\n",
      "--------\n",
      "2020년 목표 : 돌머리 비전공자가 멋진 전공자 되기!\n"
     ]
    }
   ],
   "source": [
    "for i in range(5):\n",
    "    chitchat = content[i].select(\"div.body.edit-chitchat\")[0].get_text(strip = True)\n",
    "    print(\"--------\")\n",
    "    print(chitchat)"
   ]
  },
  {
   "cell_type": "code",
   "execution_count": 7,
   "metadata": {},
   "outputs": [
    {
     "data": {
      "text/plain": [
       "2447"
      ]
     },
     "execution_count": 7,
     "metadata": {},
     "output_type": "execute_result"
    }
   ],
   "source": [
    "content_cnt = len(content)\n",
    "content_cnt"
   ]
  },
  {
   "cell_type": "code",
   "execution_count": 8,
   "metadata": {},
   "outputs": [
    {
     "name": "stderr",
     "output_type": "stream",
     "text": [
      "100%|████████████████████████████████████████████████████████| 2447/2447 [00:00<00:00, 5486.53it/s]\n"
     ]
    }
   ],
   "source": [
    "events = []\n",
    "# trange is from tqdm to measure time\n",
    "for i in trange(content_cnt):\n",
    "    chitchat = content[i].select(\"div.body.edit-chitchat\")[0].get_text(strip = True)\n",
    "    events.append(chitchat)"
   ]
  },
  {
   "cell_type": "code",
   "execution_count": 9,
   "metadata": {},
   "outputs": [
    {
     "data": {
      "text/plain": [
       "['2020년 목표: 스프링 열심히 공부하서 직장에서 사랑받고 싶어요!!\\n관심 있는 강의 : 스프링 웹 MVC',\n",
       " '2020년 목표: C++ 열심히 공부해서, 학교에서 꼭 A 맞기..!! \\n관심있는 강의: 따배씨 C++',\n",
       " '2020년 목표 : 리액트 공부하기',\n",
       " '40대 프로그래밍 시작! : 우리를 위한 프로그래밍 : 파이썬 중급',\n",
       " '2020년 목표 : 돌머리 비전공자가 멋진 전공자 되기!']"
      ]
     },
     "execution_count": 9,
     "metadata": {},
     "output_type": "execute_result"
    }
   ],
   "source": [
    "events[:5]"
   ]
  },
  {
   "cell_type": "code",
   "execution_count": 10,
   "metadata": {},
   "outputs": [
    {
     "data": {
      "text/plain": [
       "(2447, 1)"
      ]
     },
     "execution_count": 10,
     "metadata": {},
     "output_type": "execute_result"
    }
   ],
   "source": [
    "orgdf = pd.DataFrame({\"text\": events})\n",
    "orgdf.shape"
   ]
  },
  {
   "cell_type": "code",
   "execution_count": 11,
   "metadata": {},
   "outputs": [],
   "source": [
    "orgdf.to_csv(\"inflearn-event.csv\", index=False)"
   ]
  },
  {
   "cell_type": "code",
   "execution_count": 15,
   "metadata": {},
   "outputs": [],
   "source": [
    "df = pd.read_csv(\"inflearn-event.csv\")"
   ]
  },
  {
   "cell_type": "code",
   "execution_count": 16,
   "metadata": {},
   "outputs": [],
   "source": [
    "import numpy as np\n",
    "import re\n",
    "import matplotlib.pyplot as plt\n",
    "#matplotlib settings\n",
    "%matplotlib inline\n",
    "%config InlineBackend.figure_format='retina'\n",
    "plt.rc(\"font\", family=\"Malgun Gothic\")\n",
    "plt.rc('axes', unicode_minus=False)"
   ]
  },
  {
   "cell_type": "code",
   "execution_count": 17,
   "metadata": {},
   "outputs": [
    {
     "name": "stdout",
     "output_type": "stream",
     "text": [
      "(2447, 1)\n",
      "(2409, 1)\n"
     ]
    }
   ],
   "source": [
    "# delete duplicated comments. keeps last one\n",
    "print(df.shape)\n",
    "df = df.drop_duplicates([\"text\"], keep=\"last\")\n",
    "print(df.shape)"
   ]
  },
  {
   "cell_type": "code",
   "execution_count": 18,
   "metadata": {},
   "outputs": [
    {
     "data": {
      "text/html": [
       "<div>\n",
       "<style scoped>\n",
       "    .dataframe tbody tr th:only-of-type {\n",
       "        vertical-align: middle;\n",
       "    }\n",
       "\n",
       "    .dataframe tbody tr th {\n",
       "        vertical-align: top;\n",
       "    }\n",
       "\n",
       "    .dataframe thead th {\n",
       "        text-align: right;\n",
       "    }\n",
       "</style>\n",
       "<table border=\"1\" class=\"dataframe\">\n",
       "  <thead>\n",
       "    <tr style=\"text-align: right;\">\n",
       "      <th></th>\n",
       "      <th>text</th>\n",
       "      <th>origin_text</th>\n",
       "    </tr>\n",
       "  </thead>\n",
       "  <tbody>\n",
       "    <tr>\n",
       "      <th>0</th>\n",
       "      <td>2020년 목표: 스프링 열심히 공부하서 직장에서 사랑받고 싶어요!!\\n관심 있는 ...</td>\n",
       "      <td>2020년 목표: 스프링 열심히 공부하서 직장에서 사랑받고 싶어요!!\\n관심 있는 ...</td>\n",
       "    </tr>\n",
       "    <tr>\n",
       "      <th>1</th>\n",
       "      <td>2020년 목표: C++ 열심히 공부해서, 학교에서 꼭 A 맞기..!! \\n관심있는...</td>\n",
       "      <td>2020년 목표: C++ 열심히 공부해서, 학교에서 꼭 A 맞기..!! \\n관심있는...</td>\n",
       "    </tr>\n",
       "    <tr>\n",
       "      <th>3</th>\n",
       "      <td>40대 프로그래밍 시작! : 우리를 위한 프로그래밍 : 파이썬 중급</td>\n",
       "      <td>40대 프로그래밍 시작! : 우리를 위한 프로그래밍 : 파이썬 중급</td>\n",
       "    </tr>\n",
       "    <tr>\n",
       "      <th>4</th>\n",
       "      <td>2020년 목표 : 돌머리 비전공자가 멋진 전공자 되기!</td>\n",
       "      <td>2020년 목표 : 돌머리 비전공자가 멋진 전공자 되기!</td>\n",
       "    </tr>\n",
       "    <tr>\n",
       "      <th>5</th>\n",
       "      <td>2020 년목표: 비전공자(경영)가 전공자(it) 되기!!!</td>\n",
       "      <td>2020 년목표: 비전공자(경영)가 전공자(it) 되기!!!</td>\n",
       "    </tr>\n",
       "  </tbody>\n",
       "</table>\n",
       "</div>"
      ],
      "text/plain": [
       "                                                text  \\\n",
       "0  2020년 목표: 스프링 열심히 공부하서 직장에서 사랑받고 싶어요!!\\n관심 있는 ...   \n",
       "1  2020년 목표: C++ 열심히 공부해서, 학교에서 꼭 A 맞기..!! \\n관심있는...   \n",
       "3              40대 프로그래밍 시작! : 우리를 위한 프로그래밍 : 파이썬 중급   \n",
       "4                    2020년 목표 : 돌머리 비전공자가 멋진 전공자 되기!   \n",
       "5                  2020 년목표: 비전공자(경영)가 전공자(it) 되기!!!   \n",
       "\n",
       "                                         origin_text  \n",
       "0  2020년 목표: 스프링 열심히 공부하서 직장에서 사랑받고 싶어요!!\\n관심 있는 ...  \n",
       "1  2020년 목표: C++ 열심히 공부해서, 학교에서 꼭 A 맞기..!! \\n관심있는...  \n",
       "3              40대 프로그래밍 시작! : 우리를 위한 프로그래밍 : 파이썬 중급  \n",
       "4                    2020년 목표 : 돌머리 비전공자가 멋진 전공자 되기!  \n",
       "5                  2020 년목표: 비전공자(경영)가 전공자(it) 되기!!!  "
      ]
     },
     "execution_count": 18,
     "metadata": {},
     "output_type": "execute_result"
    }
   ],
   "source": [
    "df[\"origin_text\"] = df[\"text\"]\n",
    "df.head()"
   ]
  },
  {
   "cell_type": "code",
   "execution_count": 19,
   "metadata": {},
   "outputs": [],
   "source": [
    "df[\"text\"] = df[\"text\"].str.lower()"
   ]
  },
  {
   "cell_type": "code",
   "execution_count": 21,
   "metadata": {},
   "outputs": [],
   "source": [
    "df[\"text\"] = df[\"text\"].str.replace(\n",
    "    \"python\", \"파이썬\").str.replace(\n",
    "    \"pandas\", \"판다스\").str.replace(\n",
    "    \"javascript\", \"자바스크립트\").str.replace(\n",
    "    \"java\", \"자바\").str.replace(\n",
    "    \"react\", \"리액트\")"
   ]
  },
  {
   "cell_type": "code",
   "execution_count": 27,
   "metadata": {},
   "outputs": [
    {
     "data": {
      "text/html": [
       "<div>\n",
       "<style scoped>\n",
       "    .dataframe tbody tr th:only-of-type {\n",
       "        vertical-align: middle;\n",
       "    }\n",
       "\n",
       "    .dataframe tbody tr th {\n",
       "        vertical-align: top;\n",
       "    }\n",
       "\n",
       "    .dataframe thead th {\n",
       "        text-align: right;\n",
       "    }\n",
       "</style>\n",
       "<table border=\"1\" class=\"dataframe\">\n",
       "  <thead>\n",
       "    <tr style=\"text-align: right;\">\n",
       "      <th></th>\n",
       "      <th>text</th>\n",
       "      <th>course</th>\n",
       "    </tr>\n",
       "  </thead>\n",
       "  <tbody>\n",
       "    <tr>\n",
       "      <th>2442</th>\n",
       "      <td>작년 한해도 일이 바쁘다, 야근해서 힘들다는 핑계로 김영한님의 jpa 강의를 또 스...</td>\n",
       "      <td>스프링 데이터 jpa</td>\n",
       "    </tr>\n",
       "    <tr>\n",
       "      <th>2443</th>\n",
       "      <td>저는 졸업을 1년 남기고 있는 컴퓨터공학과 학생입니다. 졸업 프로젝트로 웹/앱 개발...</td>\n",
       "      <td>스프링 부트 개념과 활용</td>\n",
       "    </tr>\n",
       "    <tr>\n",
       "      <th>2444</th>\n",
       "      <td>에프터 이펙트를 써본 적은 있는데, 매번 기초만 배우다 말았어요. 이걸 할 줄 안다...</td>\n",
       "      <td>에펙 초보자도 만들 수 있는 유튜브 인트로 에프터이펙트 강좌</td>\n",
       "    </tr>\n",
       "    <tr>\n",
       "      <th>2445</th>\n",
       "      <td>저번에 인프런에서 페이스북 마케팅 강의를 듣고 많은 도움을 받았습니다. 마케팅 업무...</td>\n",
       "      <td>파이썬 입문 및 웹 크롤링을 활용한 다양한 자동화 어플리케이션 제작하기</td>\n",
       "    </tr>\n",
       "    <tr>\n",
       "      <th>2446</th>\n",
       "      <td>인프런 0호 팀원이에요!\\n그동안 서비스 개발 때문에 js 를 많이 했었는데 앞으론...</td>\n",
       "      <td>남박사의 파이썬 활용</td>\n",
       "    </tr>\n",
       "  </tbody>\n",
       "</table>\n",
       "</div>"
      ],
      "text/plain": [
       "                                                   text  \\\n",
       "2442  작년 한해도 일이 바쁘다, 야근해서 힘들다는 핑계로 김영한님의 jpa 강의를 또 스...   \n",
       "2443  저는 졸업을 1년 남기고 있는 컴퓨터공학과 학생입니다. 졸업 프로젝트로 웹/앱 개발...   \n",
       "2444  에프터 이펙트를 써본 적은 있는데, 매번 기초만 배우다 말았어요. 이걸 할 줄 안다...   \n",
       "2445  저번에 인프런에서 페이스북 마케팅 강의를 듣고 많은 도움을 받았습니다. 마케팅 업무...   \n",
       "2446  인프런 0호 팀원이에요!\\n그동안 서비스 개발 때문에 js 를 많이 했었는데 앞으론...   \n",
       "\n",
       "                                         course  \n",
       "2442                                스프링 데이터 jpa  \n",
       "2443                              스프링 부트 개념과 활용  \n",
       "2444          에펙 초보자도 만들 수 있는 유튜브 인트로 에프터이펙트 강좌  \n",
       "2445    파이썬 입문 및 웹 크롤링을 활용한 다양한 자동화 어플리케이션 제작하기  \n",
       "2446                                남박사의 파이썬 활용  "
      ]
     },
     "execution_count": 27,
     "metadata": {},
     "output_type": "execute_result"
    }
   ],
   "source": [
    "df[\"course\"] = df[\"text\"].apply(lambda x: x.split(\"관심강의\")[-1])\n",
    "df[\"course\"] = df[\"course\"].apply(lambda x: x.split(\"관심 강의\")[-1])\n",
    "df[\"course\"] = df[\"course\"].apply(lambda x: x.split(\"관심 강좌\")[-1])\n",
    "df[\"course\"] = df[\"course\"].apply(lambda x: x.split(\"강의\")[-1])\n",
    "df[\"course\"] = df[\"course\"].str.replace(\":\", \"\")\n",
    "df[[\"text\", \"course\"]].tail()"
   ]
  },
  {
   "cell_type": "code",
   "execution_count": 29,
   "metadata": {},
   "outputs": [
    {
     "data": {
      "text/html": [
       "<div>\n",
       "<style scoped>\n",
       "    .dataframe tbody tr th:only-of-type {\n",
       "        vertical-align: middle;\n",
       "    }\n",
       "\n",
       "    .dataframe tbody tr th {\n",
       "        vertical-align: top;\n",
       "    }\n",
       "\n",
       "    .dataframe thead th {\n",
       "        text-align: right;\n",
       "    }\n",
       "</style>\n",
       "<table border=\"1\" class=\"dataframe\">\n",
       "  <thead>\n",
       "    <tr style=\"text-align: right;\">\n",
       "      <th></th>\n",
       "      <th>text</th>\n",
       "      <th>origin_text</th>\n",
       "      <th>course</th>\n",
       "      <th>머신러닝</th>\n",
       "      <th>딥러닝</th>\n",
       "      <th>파이썬</th>\n",
       "      <th>판다스</th>\n",
       "      <th>크롤링</th>\n",
       "      <th>시각화</th>\n",
       "      <th>자바</th>\n",
       "      <th>자바스크립트</th>\n",
       "      <th>리액트</th>\n",
       "      <th>스프링</th>\n",
       "      <th>c</th>\n",
       "    </tr>\n",
       "  </thead>\n",
       "  <tbody>\n",
       "    <tr>\n",
       "      <th>0</th>\n",
       "      <td>2020년 목표: 스프링 열심히 공부하서 직장에서 사랑받고 싶어요!!\\n관심 있는 ...</td>\n",
       "      <td>2020년 목표: 스프링 열심히 공부하서 직장에서 사랑받고 싶어요!!\\n관심 있는 ...</td>\n",
       "      <td>스프링 웹 mvc</td>\n",
       "      <td>False</td>\n",
       "      <td>False</td>\n",
       "      <td>False</td>\n",
       "      <td>False</td>\n",
       "      <td>False</td>\n",
       "      <td>False</td>\n",
       "      <td>False</td>\n",
       "      <td>False</td>\n",
       "      <td>False</td>\n",
       "      <td>True</td>\n",
       "      <td>True</td>\n",
       "    </tr>\n",
       "    <tr>\n",
       "      <th>1</th>\n",
       "      <td>2020년 목표: c++ 열심히 공부해서, 학교에서 꼭 a 맞기..!! \\n관심있는...</td>\n",
       "      <td>2020년 목표: C++ 열심히 공부해서, 학교에서 꼭 A 맞기..!! \\n관심있는...</td>\n",
       "      <td>따배씨 c++</td>\n",
       "      <td>False</td>\n",
       "      <td>False</td>\n",
       "      <td>False</td>\n",
       "      <td>False</td>\n",
       "      <td>False</td>\n",
       "      <td>False</td>\n",
       "      <td>False</td>\n",
       "      <td>False</td>\n",
       "      <td>False</td>\n",
       "      <td>False</td>\n",
       "      <td>True</td>\n",
       "    </tr>\n",
       "    <tr>\n",
       "      <th>3</th>\n",
       "      <td>40대 프로그래밍 시작! : 우리를 위한 프로그래밍 : 파이썬 중급</td>\n",
       "      <td>40대 프로그래밍 시작! : 우리를 위한 프로그래밍 : 파이썬 중급</td>\n",
       "      <td>40대 프로그래밍 시작!  우리를 위한 프로그래밍  파이썬 중급</td>\n",
       "      <td>False</td>\n",
       "      <td>False</td>\n",
       "      <td>True</td>\n",
       "      <td>False</td>\n",
       "      <td>False</td>\n",
       "      <td>False</td>\n",
       "      <td>False</td>\n",
       "      <td>False</td>\n",
       "      <td>False</td>\n",
       "      <td>False</td>\n",
       "      <td>False</td>\n",
       "    </tr>\n",
       "    <tr>\n",
       "      <th>4</th>\n",
       "      <td>2020년 목표 : 돌머리 비전공자가 멋진 전공자 되기!</td>\n",
       "      <td>2020년 목표 : 돌머리 비전공자가 멋진 전공자 되기!</td>\n",
       "      <td>2020년 목표  돌머리 비전공자가 멋진 전공자 되기!</td>\n",
       "      <td>False</td>\n",
       "      <td>False</td>\n",
       "      <td>False</td>\n",
       "      <td>False</td>\n",
       "      <td>False</td>\n",
       "      <td>False</td>\n",
       "      <td>False</td>\n",
       "      <td>False</td>\n",
       "      <td>False</td>\n",
       "      <td>False</td>\n",
       "      <td>False</td>\n",
       "    </tr>\n",
       "    <tr>\n",
       "      <th>5</th>\n",
       "      <td>2020 년목표: 비전공자(경영)가 전공자(it) 되기!!!</td>\n",
       "      <td>2020 년목표: 비전공자(경영)가 전공자(it) 되기!!!</td>\n",
       "      <td>2020 년목표 비전공자(경영)가 전공자(it) 되기!!!</td>\n",
       "      <td>False</td>\n",
       "      <td>False</td>\n",
       "      <td>False</td>\n",
       "      <td>False</td>\n",
       "      <td>False</td>\n",
       "      <td>False</td>\n",
       "      <td>False</td>\n",
       "      <td>False</td>\n",
       "      <td>False</td>\n",
       "      <td>False</td>\n",
       "      <td>False</td>\n",
       "    </tr>\n",
       "  </tbody>\n",
       "</table>\n",
       "</div>"
      ],
      "text/plain": [
       "                                                text  \\\n",
       "0  2020년 목표: 스프링 열심히 공부하서 직장에서 사랑받고 싶어요!!\\n관심 있는 ...   \n",
       "1  2020년 목표: c++ 열심히 공부해서, 학교에서 꼭 a 맞기..!! \\n관심있는...   \n",
       "3              40대 프로그래밍 시작! : 우리를 위한 프로그래밍 : 파이썬 중급   \n",
       "4                    2020년 목표 : 돌머리 비전공자가 멋진 전공자 되기!   \n",
       "5                  2020 년목표: 비전공자(경영)가 전공자(it) 되기!!!   \n",
       "\n",
       "                                         origin_text  \\\n",
       "0  2020년 목표: 스프링 열심히 공부하서 직장에서 사랑받고 싶어요!!\\n관심 있는 ...   \n",
       "1  2020년 목표: C++ 열심히 공부해서, 학교에서 꼭 A 맞기..!! \\n관심있는...   \n",
       "3              40대 프로그래밍 시작! : 우리를 위한 프로그래밍 : 파이썬 중급   \n",
       "4                    2020년 목표 : 돌머리 비전공자가 멋진 전공자 되기!   \n",
       "5                  2020 년목표: 비전공자(경영)가 전공자(it) 되기!!!   \n",
       "\n",
       "                                course   머신러닝    딥러닝    파이썬    판다스    크롤링  \\\n",
       "0                            스프링 웹 mvc  False  False  False  False  False   \n",
       "1                              따배씨 c++  False  False  False  False  False   \n",
       "3  40대 프로그래밍 시작!  우리를 위한 프로그래밍  파이썬 중급  False  False   True  False  False   \n",
       "4       2020년 목표  돌머리 비전공자가 멋진 전공자 되기!  False  False  False  False  False   \n",
       "5     2020 년목표 비전공자(경영)가 전공자(it) 되기!!!  False  False  False  False  False   \n",
       "\n",
       "     시각화     자바  자바스크립트    리액트    스프링      c  \n",
       "0  False  False   False  False   True   True  \n",
       "1  False  False   False  False  False   True  \n",
       "3  False  False   False  False  False  False  \n",
       "4  False  False   False  False  False  False  \n",
       "5  False  False   False  False  False  False  "
      ]
     },
     "execution_count": 29,
     "metadata": {},
     "output_type": "execute_result"
    }
   ],
   "source": [
    "search_keyword = ['머신러닝', '딥러닝', '파이썬', '판다스', \n",
    "                  '크롤링', '시각화', '자바', '자바스크립트', \n",
    "                  '리액트', '스프링', 'c']\n",
    "for keyword in search_keyword:\n",
    "    df[keyword] = df[\"course\"].str.contains(keyword)\n",
    "df.head()"
   ]
  },
  {
   "cell_type": "code",
   "execution_count": 31,
   "metadata": {},
   "outputs": [
    {
     "data": {
      "text/plain": [
       "(430, 14)"
      ]
     },
     "execution_count": 31,
     "metadata": {},
     "output_type": "execute_result"
    }
   ],
   "source": [
    "df_python = df[df[\"text\"].str.contains(\"파이썬|판다스\")].copy()\n",
    "df_python.shape"
   ]
  },
  {
   "cell_type": "code",
   "execution_count": 32,
   "metadata": {},
   "outputs": [
    {
     "data": {
      "text/html": [
       "<div>\n",
       "<style scoped>\n",
       "    .dataframe tbody tr th:only-of-type {\n",
       "        vertical-align: middle;\n",
       "    }\n",
       "\n",
       "    .dataframe tbody tr th {\n",
       "        vertical-align: top;\n",
       "    }\n",
       "\n",
       "    .dataframe thead th {\n",
       "        text-align: right;\n",
       "    }\n",
       "</style>\n",
       "<table border=\"1\" class=\"dataframe\">\n",
       "  <thead>\n",
       "    <tr style=\"text-align: right;\">\n",
       "      <th></th>\n",
       "      <th>머신러닝</th>\n",
       "      <th>딥러닝</th>\n",
       "      <th>파이썬</th>\n",
       "      <th>판다스</th>\n",
       "      <th>크롤링</th>\n",
       "      <th>시각화</th>\n",
       "      <th>자바</th>\n",
       "      <th>자바스크립트</th>\n",
       "      <th>리액트</th>\n",
       "      <th>스프링</th>\n",
       "      <th>c</th>\n",
       "    </tr>\n",
       "  </thead>\n",
       "  <tbody>\n",
       "    <tr>\n",
       "      <th>0</th>\n",
       "      <td>False</td>\n",
       "      <td>False</td>\n",
       "      <td>False</td>\n",
       "      <td>False</td>\n",
       "      <td>False</td>\n",
       "      <td>False</td>\n",
       "      <td>False</td>\n",
       "      <td>False</td>\n",
       "      <td>False</td>\n",
       "      <td>True</td>\n",
       "      <td>True</td>\n",
       "    </tr>\n",
       "    <tr>\n",
       "      <th>1</th>\n",
       "      <td>False</td>\n",
       "      <td>False</td>\n",
       "      <td>False</td>\n",
       "      <td>False</td>\n",
       "      <td>False</td>\n",
       "      <td>False</td>\n",
       "      <td>False</td>\n",
       "      <td>False</td>\n",
       "      <td>False</td>\n",
       "      <td>False</td>\n",
       "      <td>True</td>\n",
       "    </tr>\n",
       "    <tr>\n",
       "      <th>3</th>\n",
       "      <td>False</td>\n",
       "      <td>False</td>\n",
       "      <td>True</td>\n",
       "      <td>False</td>\n",
       "      <td>False</td>\n",
       "      <td>False</td>\n",
       "      <td>False</td>\n",
       "      <td>False</td>\n",
       "      <td>False</td>\n",
       "      <td>False</td>\n",
       "      <td>False</td>\n",
       "    </tr>\n",
       "    <tr>\n",
       "      <th>4</th>\n",
       "      <td>False</td>\n",
       "      <td>False</td>\n",
       "      <td>False</td>\n",
       "      <td>False</td>\n",
       "      <td>False</td>\n",
       "      <td>False</td>\n",
       "      <td>False</td>\n",
       "      <td>False</td>\n",
       "      <td>False</td>\n",
       "      <td>False</td>\n",
       "      <td>False</td>\n",
       "    </tr>\n",
       "    <tr>\n",
       "      <th>5</th>\n",
       "      <td>False</td>\n",
       "      <td>False</td>\n",
       "      <td>False</td>\n",
       "      <td>False</td>\n",
       "      <td>False</td>\n",
       "      <td>False</td>\n",
       "      <td>False</td>\n",
       "      <td>False</td>\n",
       "      <td>False</td>\n",
       "      <td>False</td>\n",
       "      <td>False</td>\n",
       "    </tr>\n",
       "    <tr>\n",
       "      <th>...</th>\n",
       "      <td>...</td>\n",
       "      <td>...</td>\n",
       "      <td>...</td>\n",
       "      <td>...</td>\n",
       "      <td>...</td>\n",
       "      <td>...</td>\n",
       "      <td>...</td>\n",
       "      <td>...</td>\n",
       "      <td>...</td>\n",
       "      <td>...</td>\n",
       "      <td>...</td>\n",
       "    </tr>\n",
       "    <tr>\n",
       "      <th>2442</th>\n",
       "      <td>False</td>\n",
       "      <td>False</td>\n",
       "      <td>False</td>\n",
       "      <td>False</td>\n",
       "      <td>False</td>\n",
       "      <td>False</td>\n",
       "      <td>False</td>\n",
       "      <td>False</td>\n",
       "      <td>False</td>\n",
       "      <td>True</td>\n",
       "      <td>False</td>\n",
       "    </tr>\n",
       "    <tr>\n",
       "      <th>2443</th>\n",
       "      <td>False</td>\n",
       "      <td>False</td>\n",
       "      <td>False</td>\n",
       "      <td>False</td>\n",
       "      <td>False</td>\n",
       "      <td>False</td>\n",
       "      <td>False</td>\n",
       "      <td>False</td>\n",
       "      <td>False</td>\n",
       "      <td>True</td>\n",
       "      <td>False</td>\n",
       "    </tr>\n",
       "    <tr>\n",
       "      <th>2444</th>\n",
       "      <td>False</td>\n",
       "      <td>False</td>\n",
       "      <td>False</td>\n",
       "      <td>False</td>\n",
       "      <td>False</td>\n",
       "      <td>False</td>\n",
       "      <td>False</td>\n",
       "      <td>False</td>\n",
       "      <td>False</td>\n",
       "      <td>False</td>\n",
       "      <td>False</td>\n",
       "    </tr>\n",
       "    <tr>\n",
       "      <th>2445</th>\n",
       "      <td>False</td>\n",
       "      <td>False</td>\n",
       "      <td>True</td>\n",
       "      <td>False</td>\n",
       "      <td>True</td>\n",
       "      <td>False</td>\n",
       "      <td>False</td>\n",
       "      <td>False</td>\n",
       "      <td>False</td>\n",
       "      <td>False</td>\n",
       "      <td>False</td>\n",
       "    </tr>\n",
       "    <tr>\n",
       "      <th>2446</th>\n",
       "      <td>False</td>\n",
       "      <td>False</td>\n",
       "      <td>True</td>\n",
       "      <td>False</td>\n",
       "      <td>False</td>\n",
       "      <td>False</td>\n",
       "      <td>False</td>\n",
       "      <td>False</td>\n",
       "      <td>False</td>\n",
       "      <td>False</td>\n",
       "      <td>False</td>\n",
       "    </tr>\n",
       "  </tbody>\n",
       "</table>\n",
       "<p>2409 rows × 11 columns</p>\n",
       "</div>"
      ],
      "text/plain": [
       "       머신러닝    딥러닝    파이썬    판다스    크롤링    시각화     자바  자바스크립트    리액트    스프링  \\\n",
       "0     False  False  False  False  False  False  False   False  False   True   \n",
       "1     False  False  False  False  False  False  False   False  False  False   \n",
       "3     False  False   True  False  False  False  False   False  False  False   \n",
       "4     False  False  False  False  False  False  False   False  False  False   \n",
       "5     False  False  False  False  False  False  False   False  False  False   \n",
       "...     ...    ...    ...    ...    ...    ...    ...     ...    ...    ...   \n",
       "2442  False  False  False  False  False  False  False   False  False   True   \n",
       "2443  False  False  False  False  False  False  False   False  False   True   \n",
       "2444  False  False  False  False  False  False  False   False  False  False   \n",
       "2445  False  False   True  False   True  False  False   False  False  False   \n",
       "2446  False  False   True  False  False  False  False   False  False  False   \n",
       "\n",
       "          c  \n",
       "0      True  \n",
       "1      True  \n",
       "3     False  \n",
       "4     False  \n",
       "5     False  \n",
       "...     ...  \n",
       "2442  False  \n",
       "2443  False  \n",
       "2444  False  \n",
       "2445  False  \n",
       "2446  False  \n",
       "\n",
       "[2409 rows x 11 columns]"
      ]
     },
     "execution_count": 32,
     "metadata": {},
     "output_type": "execute_result"
    }
   ],
   "source": [
    "df[search_keyword]"
   ]
  },
  {
   "cell_type": "code",
   "execution_count": 34,
   "metadata": {},
   "outputs": [
    {
     "data": {
      "text/plain": [
       "c         380\n",
       "파이썬       375\n",
       "스프링       346\n",
       "자바        318\n",
       "자바스크립트    130\n",
       "리액트       124\n",
       "머신러닝      124\n",
       "크롤링        55\n",
       "딥러닝        46\n",
       "시각화        26\n",
       "판다스         5\n",
       "dtype: int64"
      ]
     },
     "execution_count": 34,
     "metadata": {},
     "output_type": "execute_result"
    }
   ],
   "source": [
    "df[search_keyword].sum().sort_values(ascending=False)"
   ]
  },
  {
   "cell_type": "code",
   "execution_count": 35,
   "metadata": {},
   "outputs": [
    {
     "name": "stdout",
     "output_type": "stream",
     "text": [
      "--------------------\n",
      "딥러닝을 공부하여 인공지능에 한걸음 다가가고 싶습니다~~!!\n",
      "#관심강의 : [opencv] 파이썬 딥러닝 영상처리 프로젝트 - 손흥민을 찾아라!\n",
      "--------------------\n",
      "금융인을 꿈꾸는 인문대생인데 인프런을 통해 그 꿈에 날개를 달 수 있으면 좋겠습니다!!\n",
      "#선대 #머신러닝 #딥러닝 #nlp #finance\n",
      "--------------------\n",
      "올해 새롭게 딥러닝에 대한 공부를 시작하고자 합니다!\n",
      "#관심분야 : 밑바닥부터 시작하는 머신러닝 입문,  공공 데이터 분석\n",
      "--------------------\n",
      "딥러닝에 관심이 생겨 구글링 중 인프런에 좋은 강의를 발견했습니다. \n",
      "열심히 ai 공부하고 싶습니다 \n",
      "#관심강의: 모두를 위한 딥러닝 - 기본적인 머신러닝과 딥러닝 강좌\n",
      "--------------------\n",
      "평생 개발자 하렵니다. 인프런에서 잘 배워서!\n",
      "#관심강의: 파이썬 인공지능, 머신러닝, 딥러닝 제대로 배워요!, 데이터 과학부터 인공지능까지!\n",
      "--------------------\n",
      "바빠서 밀어 두었던 인공지능과 데이터 사이언스를 다시 제대로 공부를 하려 합니다.\n",
      "# [opencv] 파이썬 딥러닝 영상처리 프로젝트 - 손흥민을 찾아라!\n",
      "--------------------\n",
      "크라우드펀딩한 강의 듣고 자연어처리 할 수 있는 능력이 올해 안에 생기길...ㅜ 해야할 것들이 너무 많아서 버겁지만 그래도 도전!\n",
      "\n",
      "#관심강의 : 자연어처리, 머신러닝, 딥러닝, 대학수학, 파이썬, 파이토치, 케라스\n",
      "--------------------\n",
      "파이썬 로드맵에 따라 열심히 공부해서 데이터 사이언스 skill up 하려고 합니다.\n",
      "책으로 공부하면 진도도 잘 안 나갔는데 강의를 들으니 하루하루 일정하게 진도도 나가고 이해도 쉽네요.\n",
      "#[opencv] 파이썬 딥러닝 영상처리 프로젝트 - 손흥민을 찾아라!\n",
      "--------------------\n",
      "올해는 딥러닝을 활용한 토이 프로젝트에 도전해보려합니다!\n",
      "--------------------\n",
      "2020 목표 : 올해의 목표는 내가 원하는 프로그램 만들기\n",
      "#관심과목 : 딥러닝, 파이썬, db, r\n",
      "--------------------\n",
      "2020 공부목표 : 딥러닝을 다른 분야에 활용할 수 있을 정도로 공부!\n",
      "# 관심과목: 딥러닝\n",
      "--------------------\n",
      "데이터분석과 딥러닝 쪽에 관심이 있는데 매번 발만 담궜다 빼는 식으로 봤었는데 2020년 제대로 배워보겠습니다 . 독학으로도 어느정도 수준에 이를 수 있도록 최선을 다하겠습니다.\n",
      "\n",
      "# 관심과목 : 파이썬, 딥러닝\n",
      "--------------------\n",
      "-진짜 fullstack 개발자가 나타났다.-\n",
      "대한민국 개발자들이 좀더 편하게 접근할수있는 딥러닝 관련 framework을 만들고  싶습니다.\n",
      "--------------------\n",
      "신년 계획을 다짐하며... 화이팅\n",
      " #관심 강의 : 모두를 위한 딥러닝\n",
      "--------------------\n",
      "2020년 데이터분석 전문가가 되기위해 열심히 노력해봅니다!!!!\n",
      "#관심 강의 : 모두를 위한 딥러닝\n",
      "--------------------\n",
      "졸업프로젝트 잘 끝내고 싶습니다..\n",
      "모두를 위한 딥러닝\n",
      "--------------------\n",
      "항상 포기했던 머신러닝, 딥러닝 공부를 다시 시작해 보려 합니다!!!\n",
      "이번에는 포기하지 않고 열심히 인프런과 달리겠습니다!!!\n",
      "2020년 화이팅!!!\n",
      "--------------------\n",
      "2020년 목표 : 딥러닝 마스터 관심 있는 강의 : 딥러닝 완전정복\n",
      "--------------------\n",
      "2020년 목표 : 파이썬/r 자유자재로 다루기\n",
      "이번 여름 졸업을 앞두고 있습니다. \n",
      "데이터 분야로 취업 목표를 확실히 하여 분야의 \n",
      "전문가가 되는 것이 목표입니다.\n",
      "\n",
      "관심 있는 강의 : 딥러닝 완전정복\n",
      "--------------------\n",
      "파이썬, 알고리즘, 딥러닝,머신러닝, 선형대수까지 열심히 공부하겠습니다!\n",
      "--------------------\n",
      "내년에 졸업을 앞둔 비전공 개발자지망생 입니다.  최근에 finance machine learning에 관심이 생겨 공부를 독학으로 하고 있는데, 아무래도 기반이 부족하다보니 배우면 배울수록 부족한 점이 많이 느껴지네요.\n",
      "인프런을 통해서 기반과 프로젝트 경험을 쌓아 취업하고 싶습니다.\n",
      "#관심강의 : [opencv] 파이썬 딥러닝 영상처리 프로젝트 - 손흥민을 찾아라!\n",
      "--------------------\n",
      "올해는  반드시 컴퓨터전공 복수전공 성공해서 프로그래머로 살기 위한 발판 마련하기\n",
      "#관심강의: 모두를 위한 딥러닝\n",
      "--------------------\n",
      "현재 현업에서 일하고 있습니다.\n",
      "머신러닝을 마스터하기 위해서 인프런에서 열심히 공부하고 있고 내년도에는 인프런과 함께 성장하는게 제 목표입니다. 인프런에 머신러닝 강의가 잘되어 있어서 항상 만족하며 열공하고 있습니다.\n",
      "# 관심강의 : 파이썬 데이터시각화 분석 실전 프로젝트,  파이썬을 활용한 데이터분석과 it보안, [opencv] 파이썬 딥러닝 영상처리 프로젝트 - 손흥민을 찾아라!\n",
      "--------------------\n",
      "머신러닝 / 딥러닝 기초를 다지고 프로젝트를 진행하면서 ml 엔지니어로서의 입지를 다지고 싶습니다.\n",
      "--------------------\n",
      "늦으막히 학교를 다니며 인공지능 공부중입니다.\n",
      "언제나 자료는 많은데 의지와 시간이 없네요.(사실 의지문제가 더 크겠죠^^;;)\n",
      "올해는 분기별로 강의와 도서를 한권씩 소화해볼까합니다.\n",
      "#관심강의:파이썬 딥러닝 완전정복 - gan, bert, rnn, cnn 최신기법\n",
      "--------------------\n",
      "10년이 훌쩍 넘은 공개 개발자 입니다. 질 좋은 무료 교육을 통해 스페셜 리스트가 되고 싶습니다.\n",
      "#관심강의 모두의딥러닝\n",
      "--------------------\n",
      "2020년에는 어설프게 알고 있는 딥러닝 분야에 대해서 깊이를 다지는 것이고, 관심있는 인프런 강의는 김성훈 교수님의 모두를 위한 딥러닝 - 기본적인 머신러닝과 딥러닝 강좌를 올해는 꼭 들어서 딥러닝 공부의 문을 열고 싶습니다.\n",
      "--------------------\n",
      "인프런에서 안드로이드 개발강좌들으면서 국내스타트업 인턴 다수와 미국 개발자인턴까지 다녀왔습니다\n",
      "\n",
      "내년졸업인데 많은공부 많은성장의시기를주는 인프런 감사합니다 열공할게요\n",
      "\n",
      "#관심강의 모두의딥러닝\n",
      "--------------------\n",
      "#2020공부목표: 유튜브로 간간히 공부를 했었는데 올해는 본격적으로 체계적으로 데이터 분석과 머신러닝 강좌를 들으면서 실적을 쌓고 싶어요. 강의 들으면서 샘플 데이터를 많이 다루어보고 나아가서 실무에서도 실제 데이터로 분석해서 업무에 활용하고 싶습니다. 아무래도 책으로 공부하는데는 한계가 있는 것 같고 강의 들으면서 행간에 담겨있는 팁들을 강사님의 육성을 통해서 전수받고 싶어요. 나 자신에게 화이팅! ㅎㅎㅎ \n",
      "\n",
      "#관심있는 인프런 강의: 모두를 위한 딥러닝, 파이썬 데이터시각화 분석 실전 프로젝트\n",
      "--------------------\n",
      "지금까지 웹개발을 목표로 공부해 왔지만 올해는 빅데이터 및 딥러닝 관련해서 개발자로서 전환할수 있는 한해가 되었으면 좋겠습니다.\n",
      "\n",
      "# 모두를 위한 딥러닝 - 기본적인 머신러닝과 딥러닝 강좌\n",
      "# 파이썬 데이터시각화 분석 실전 프로젝트\n",
      "--------------------\n",
      "올해 목표는 3가지 입니다. 학점 4.0 / 영어 원어민 급으로 구사 / 식스팩 만들기! 처음에는 무리한 목표라고 생각이 되었지만 이런 큰 목표들을 잘게 쪼개서 세부 목표들을 설정하고 그 목표들을 계획에 맞춰 실천한다면 충분히 가능하다고 생각합니다. 특히, 저는 매일의 힘을 믿습니다. 매일 복습을 하고, 매일 영어를 공부하고, 매일 다이어트와 운동을 하면 처음에는 변화가 없어서 답답하지만 그런 노력이 일주일이 축적이 되고, 이주일이 축적이 되고, 한 달이 축적되다보면 결국 공부도 익숙해져서 시험을 잘보게 되고, 영어도 익숙해져서 바로 영어 표현이 떠오르게 되고, 운동도 과거의 나보다 더욱 체력이 좋아져서 더 많이 할 수 있게 될 것이니 매일 매일 하면 잘하게 될 것입니다. 2020년에는 게을렀던 2019년의 나와 작별인사를 하고 반드시 올해 초에 목표했던 3가지를 꼭 지키도록 할 것입니다. 추가로 제 진로에 대해서 계속 고민하고 있는데 그 고민의 결실도 이번 해에 봤으면 좋겠습니다! 감사합니다~^^\n",
      "#관심강의 : 빅데이터 처리, 머신러닝, 딥러닝 등\n",
      "--------------------\n",
      "올해는 ai 머신러닝을 제대로 학습하고 싶습니다.\n",
      "더불어 프론트앤드 개발쪽도 더 공부하고 싶습니다.\n",
      "관심강의는 \"모두를 위한 딥러닝 - 기본적인 머신러닝과 딥러닝 강좌\"  \"모두를 위한 딥러닝 - 기본적인 머신러닝과 딥러닝 강좌\" 입니다.\n",
      "--------------------\n",
      "인공지능, 딥러닝, 머신러닝을 이해할 수 있는 개발자가 되고싶네요\n",
      "--------------------\n",
      "의료정보학 전공중인 대학원생입니다.\n",
      "올해는 머신러닝과 딥러닝에 관한 베이스를 조금 더 갈고 닦아 전문가의 길에 가까워졌으면 하는 바램입니다.\n",
      "\n",
      "관심강의는 \"모두를 위한 딥러닝- 기본적인 머신러닝과 딥러닝 강좌\" 입니다.\n",
      "--------------------\n",
      "풀스택 개발자..\n",
      "딥러닝 개발자..\n",
      "--------------------\n",
      "2020년에는 머신러닝, 딥러닝 등 인공지능에 대해서 열심히 해보려고 합니다.\n",
      "#파이썬 머신러닝 완벽 가이드\n",
      "--------------------\n",
      "올해는 꼭 딥러닝을 자유롭게 다루겠습니다!\n",
      "--------------------\n",
      "딥러닝과 빅데이터에 대한 개발을 파이썬으로 꼭 학습하려고 합니다.\n",
      "--------------------\n",
      "공부는 끝이 없는거 같습니다.\n",
      "올해도 꾸준한 학습이 목표입니다.\n",
      "#관심강의 : 딥러닝 추천시스템\n",
      "--------------------\n",
      "2020목표 : 매주 it관련 기술 익히기! 특히 머신러닝, 딥러닝~!\n",
      "--------------------\n",
      "2020년 목표: 머신러닝, 딥러닝 공부 관심강의:파이썬 머신러닝/딥러닝\n",
      "--------------------\n",
      "ai 엔지니어로 일한지 얼마 되지 않아 아직 지식이 부족합니다. 딥러닝 잘 배워서 ai 전문가가 되고 싶습니다.\n",
      "#관심강의:[텐서플로2] 파이썬 딥러닝 완전정복 - gan, bert, rnn, cnn 최신기법\n",
      "--------------------\n",
      "이제 어딜 가나 머신러닝, 딥러닝은 빼놓을 수 없는 키워드 인거 같습니다. 스마트 그리드 산업에 인공지능을 도입하여 보다 편리하고 유용한 어플을 만들고 싶습니다. 2020년도 화이팅!\n",
      "\n",
      "# 관심강의 : [텐서플로2] 파이썬 딥러닝 완전정복 - gan, bert, rnn, cnn 최신기법\n",
      "--------------------\n",
      "2020년 공부목표:\n",
      "컴퓨터 공학을 전공하지 않았지만 소프트웨어 개발자로 일하고 있습니다. \n",
      "아직도 배워야 할 것이 많고 실무에서 부족함을 많이 느낍니다. 인프런을 통해 발전하고 싶습니다.\n",
      "컴퓨터비전 분야에서 전문가로 성장하고 싶습니다.\n",
      "\n",
      "관심있는 인프런 강의명:\n",
      "[opencv] 파이썬 딥러닝 영상처리 프로젝트 - 손흥민을 찾아라!\n",
      "--------------------\n",
      "개발자가 되고싶어 공부하는 학생 입니다. \n",
      "지금 유망한 인공지능을 공부하여 미래의 핵심 기술자가 되고싶습니다.\n",
      "#관심강의: 모두를 위한 딥러닝 - deep reinforcement learning\n",
      "--------------------\n",
      "2020년 공부목표: \n",
      "학교를 졸업한지 벌써 3년입니다. 졸업 할 때 만해도 무엇이든 해낼 수 있을 거라 생각했는데, 막상 사회로 뛰어들어 보니 아무 것도 모르고 해본적 없는 작은 먼지 같은 존재를 깨닿는데 그리 길지 않은 시간이 걸렸습니다. \n",
      "최근 computer vision 분야는 딥러닝을 기반으로 엄청난 발전을 했고, 아직 진행 중입니다. 이런 물결에 하루 빨리 탑승하지 못하고 느긋하게 지낸 지난날을 후회하며, 인프런을 통해 올해 부터 한걸음씩 나아가는 계기로 삼으려 합니다. 강의를 통해 딥러닝 기반 classification, object detection, multi-objects tracking 등의 기술 기반지식을 익히겠습니다.\n",
      "\n",
      "관심있는 인프런 강의명: \n",
      "[opencv] 파이썬 딥러닝 영상처리 프로젝트 - 손흥민을 찾아라!\n"
     ]
    }
   ],
   "source": [
    "text = df.loc[(df[\"딥러닝\"] == True), \"text\"]\n",
    "for t in text:\n",
    "    print(\"-\"*20)\n",
    "    print(t)"
   ]
  },
  {
   "cell_type": "code",
   "execution_count": null,
   "metadata": {},
   "outputs": [],
   "source": []
  }
 ],
 "metadata": {
  "kernelspec": {
   "display_name": "Python 3",
   "language": "python",
   "name": "python3"
  },
  "language_info": {
   "codemirror_mode": {
    "name": "ipython",
    "version": 3
   },
   "file_extension": ".py",
   "mimetype": "text/x-python",
   "name": "python",
   "nbconvert_exporter": "python",
   "pygments_lexer": "ipython3",
   "version": "3.8.3"
  }
 },
 "nbformat": 4,
 "nbformat_minor": 4
}
