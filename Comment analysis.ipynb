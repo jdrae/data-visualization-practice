{
 "cells": [
  {
   "cell_type": "markdown",
   "metadata": {},
   "source": [
    "# Crawl data from website"
   ]
  },
  {
   "cell_type": "code",
   "execution_count": 1,
   "metadata": {},
   "outputs": [],
   "source": [
    "import requests\n",
    "from bs4 import BeautifulSoup as bs\n",
    "import pandas as pd\n",
    "from tqdm import trange # to measure time"
   ]
  },
  {
   "cell_type": "markdown",
   "metadata": {},
   "source": [
    "Before crawling, check **/robots.txt** from domain url.\n",
    "\n",
    "(ex. movie.naver.com//robots.txt)"
   ]
  },
  {
   "cell_type": "markdown",
   "metadata": {},
   "source": [
    "In chrome dev tool, click 'copy selector' over the element which you want to crawl\n",
    "\n",
    "main > section > div > div > div.chitchats > div.chitchat-list > div:nth-child(2) > div > div.body.edit-chitchat"
   ]
  },
  {
   "cell_type": "code",
   "execution_count": 68,
   "metadata": {},
   "outputs": [],
   "source": [
    "base_url = \"https://movie.naver.com/movie/bi/mi/pointWriteFormList.nhn?code=151728&type=after&isActualPointWriteExecute=false&isMileageSubscriptionAlready=false&isMileageSubscriptionReject=false\"\n",
    "base_url = base_url + \"&page=\"\n",
    "\n",
    "comments = []\n",
    "\n",
    "def get_by_page(pagenum):\n",
    "    url = base_url + str(pagenum)\n",
    "    response = requests.get(url) # response is 200 if normal\n",
    "    soup = bs(response.content, 'html.parser') # loads every element in html page\n",
    "    content = soup.select(\".score_result .score_reple\")\n",
    "    \n",
    "    for i in range(10): # 10 comments in a page\n",
    "        comments.append(content[i].select(\"p\")[0].get_text(strip=True))\n",
    "        if pagenum == 1: # for test\n",
    "            print(comments[-1])\n",
    "            print('=========================')\n"
   ]
  },
  {
   "cell_type": "code",
   "execution_count": 69,
   "metadata": {},
   "outputs": [
    {
     "name": "stderr",
     "output_type": "stream",
     "text": [
      "  2%|▏         | 2/100 [00:00<00:07, 13.16it/s]"
     ]
    },
    {
     "name": "stdout",
     "output_type": "stream",
     "text": [
      "먼저 떠난 우리 아들도 저렇게 멋진데서 잘 지내길..평생 기억할께 꼭 다시 만나자\n",
      "=========================\n",
      "'신과 함께'와는 격이 다른 저승영화\n",
      "=========================\n",
      "박평식 : \"따뜻해, 삶을 껴안고 다독이는 죽음\" 박평식 평론가의 평점이 이렇게 공감된다니... 2018 최고의 애니메이션? 아니 이건 최고의 영화\n",
      "=========================\n",
      "관람객사람이 진정으로 죽는 순간은 사랑하는 사람에게 잊혀졌을때..사랑하는 사람들을 영원히 기억하고 나 또한 그 사람들에게 영원히 기억되길..Remember me..\n",
      "=========================\n",
      "사람은 3번 죽는다.숨이 멎는 순간 생물학 적으로 죽고, 장례식에 온 하객들이 떠나갈  때 사회적으로 죽고 그 사람을 기억하는 마지막 사람이 죽으면 그것이 진정한 죽음이라는것을 코코를 보고 알게되었다.\n",
      "=========================\n",
      "내일 죽는다면 오늘 봐야할 영화\n",
      "=========================\n",
      "마지막에 코코 할머니 손잡고 울면서 기억해줘 노래부를때 정말 심각하게 슬펐네요...ㅠㅠ\n",
      "=========================\n",
      "픽사는 우리를 배신하지 않아...\n",
      "=========================\n",
      "remember me... 내가 나중에 죽는다면 사후세계에 갔을때 울엄마아빠가 나 마중나와 있어주면 좋겠다.... 엄마아빠 사랑해\n",
      "=========================\n",
      "픽사 역대급 애니다... 평식이도 8점줬다? 긴말 필요없다 이건 영화관 꼭 가서 보즈아!!!\n",
      "=========================\n"
     ]
    },
    {
     "name": "stderr",
     "output_type": "stream",
     "text": [
      "100%|██████████| 100/100 [00:07<00:00, 12.87it/s]"
     ]
    },
    {
     "name": "stdout",
     "output_type": "stream",
     "text": [
      "1000\n"
     ]
    },
    {
     "name": "stderr",
     "output_type": "stream",
     "text": [
      "\n"
     ]
    }
   ],
   "source": [
    "for i in trange(1,101):\n",
    "    get_by_page(i)\n",
    "\n",
    "print(len(comments))"
   ]
  },
  {
   "cell_type": "markdown",
   "metadata": {},
   "source": [
    "# Make dataframe and preprocess"
   ]
  },
  {
   "cell_type": "code",
   "execution_count": 70,
   "metadata": {},
   "outputs": [
    {
     "data": {
      "text/plain": [
       "(1000, 1)"
      ]
     },
     "execution_count": 70,
     "metadata": {},
     "output_type": "execute_result"
    }
   ],
   "source": [
    "orgdf = pd.DataFrame({\"text\": comments})\n",
    "orgdf.shape"
   ]
  },
  {
   "cell_type": "code",
   "execution_count": 72,
   "metadata": {},
   "outputs": [],
   "source": [
    "orgdf.to_csv(\"data/coco-movie-review.csv\", index=False)"
   ]
  },
  {
   "cell_type": "code",
   "execution_count": 73,
   "metadata": {},
   "outputs": [],
   "source": [
    "df = pd.read_csv(\"data/coco-movie-review.csv\")"
   ]
  },
  {
   "cell_type": "code",
   "execution_count": 74,
   "metadata": {},
   "outputs": [],
   "source": [
    "import numpy as np\n",
    "import re\n",
    "import matplotlib.pyplot as plt\n",
    "#matplotlib settings\n",
    "%matplotlib inline\n",
    "%config InlineBackend.figure_format='retina'\n",
    "plt.rc(\"font\", family=\"Malgun Gothic\")\n",
    "plt.rc('axes', unicode_minus=False)"
   ]
  },
  {
   "cell_type": "code",
   "execution_count": 75,
   "metadata": {},
   "outputs": [
    {
     "name": "stdout",
     "output_type": "stream",
     "text": [
      "(1000, 1)\n",
      "(995, 1)\n"
     ]
    }
   ],
   "source": [
    "# delete duplicated comments. keeps last one\n",
    "print(df.shape)\n",
    "df = df.drop_duplicates([\"text\"], keep=\"last\")\n",
    "print(df.shape)"
   ]
  },
  {
   "cell_type": "code",
   "execution_count": 166,
   "metadata": {},
   "outputs": [],
   "source": [
    "df[\"text\"] = df[\"text\"].str.lower()\n",
    "df = df.dropna()\n",
    "df[\"text\"] = df[\"text\"].str.replace(\n",
    "    \"스포일러가 포함된 감상평입니다\", \"\").str.replace(\n",
    "    \"remeber\", \"rememmber\").str.replace(\n",
    "    \"관람객\", \"\")"
   ]
  },
  {
   "cell_type": "code",
   "execution_count": 139,
   "metadata": {},
   "outputs": [
    {
     "data": {
      "text/html": [
       "<div>\n",
       "<style scoped>\n",
       "    .dataframe tbody tr th:only-of-type {\n",
       "        vertical-align: middle;\n",
       "    }\n",
       "\n",
       "    .dataframe tbody tr th {\n",
       "        vertical-align: top;\n",
       "    }\n",
       "\n",
       "    .dataframe thead th {\n",
       "        text-align: right;\n",
       "    }\n",
       "</style>\n",
       "<table border=\"1\" class=\"dataframe\">\n",
       "  <thead>\n",
       "    <tr style=\"text-align: right;\">\n",
       "      <th></th>\n",
       "      <th>text</th>\n",
       "      <th>origin_text</th>\n",
       "      <th>감동</th>\n",
       "      <th>사랑</th>\n",
       "      <th>죽음</th>\n",
       "      <th>울</th>\n",
       "      <th>할머니</th>\n",
       "      <th>아이</th>\n",
       "      <th>노래</th>\n",
       "      <th>픽사</th>\n",
       "      <th>추억</th>\n",
       "      <th>눈물</th>\n",
       "    </tr>\n",
       "  </thead>\n",
       "  <tbody>\n",
       "    <tr>\n",
       "      <th>0</th>\n",
       "      <td>먼저 떠난 우리 아들도 저렇게 멋진데서 잘 지내길..평생 기억할께 꼭 다시 만나자</td>\n",
       "      <td>먼저 떠난 우리 아들도 저렇게 멋진데서 잘 지내길..평생 기억할께 꼭 다시 만나자</td>\n",
       "      <td>False</td>\n",
       "      <td>False</td>\n",
       "      <td>False</td>\n",
       "      <td>False</td>\n",
       "      <td>False</td>\n",
       "      <td>False</td>\n",
       "      <td>False</td>\n",
       "      <td>False</td>\n",
       "      <td>False</td>\n",
       "      <td>False</td>\n",
       "    </tr>\n",
       "    <tr>\n",
       "      <th>1</th>\n",
       "      <td>'신과 함께'와는 격이 다른 저승영화</td>\n",
       "      <td>'신과 함께'와는 격이 다른 저승영화</td>\n",
       "      <td>False</td>\n",
       "      <td>False</td>\n",
       "      <td>False</td>\n",
       "      <td>False</td>\n",
       "      <td>False</td>\n",
       "      <td>False</td>\n",
       "      <td>False</td>\n",
       "      <td>False</td>\n",
       "      <td>False</td>\n",
       "      <td>False</td>\n",
       "    </tr>\n",
       "    <tr>\n",
       "      <th>2</th>\n",
       "      <td>박평식 : \"따뜻해, 삶을 껴안고 다독이는 죽음\" 박평식 평론가의 평점이 이렇게 공...</td>\n",
       "      <td>박평식 : \"따뜻해, 삶을 껴안고 다독이는 죽음\" 박평식 평론가의 평점이 이렇게 공...</td>\n",
       "      <td>False</td>\n",
       "      <td>False</td>\n",
       "      <td>True</td>\n",
       "      <td>False</td>\n",
       "      <td>False</td>\n",
       "      <td>False</td>\n",
       "      <td>False</td>\n",
       "      <td>False</td>\n",
       "      <td>False</td>\n",
       "      <td>False</td>\n",
       "    </tr>\n",
       "    <tr>\n",
       "      <th>3</th>\n",
       "      <td>관람객사람이 진정으로 죽는 순간은 사랑하는 사람에게 잊혀졌을때..사랑하는 사람들을 ...</td>\n",
       "      <td>관람객사람이 진정으로 죽는 순간은 사랑하는 사람에게 잊혀졌을때..사랑하는 사람들을 ...</td>\n",
       "      <td>False</td>\n",
       "      <td>True</td>\n",
       "      <td>False</td>\n",
       "      <td>False</td>\n",
       "      <td>False</td>\n",
       "      <td>False</td>\n",
       "      <td>False</td>\n",
       "      <td>False</td>\n",
       "      <td>False</td>\n",
       "      <td>False</td>\n",
       "    </tr>\n",
       "    <tr>\n",
       "      <th>4</th>\n",
       "      <td>사람은 3번 죽는다.숨이 멎는 순간 생물학 적으로 죽고, 장례식에 온 하객들이 떠나...</td>\n",
       "      <td>사람은 3번 죽는다.숨이 멎는 순간 생물학 적으로 죽고, 장례식에 온 하객들이 떠나...</td>\n",
       "      <td>False</td>\n",
       "      <td>False</td>\n",
       "      <td>True</td>\n",
       "      <td>False</td>\n",
       "      <td>False</td>\n",
       "      <td>False</td>\n",
       "      <td>False</td>\n",
       "      <td>False</td>\n",
       "      <td>False</td>\n",
       "      <td>False</td>\n",
       "    </tr>\n",
       "  </tbody>\n",
       "</table>\n",
       "</div>"
      ],
      "text/plain": [
       "                                                text  \\\n",
       "0      먼저 떠난 우리 아들도 저렇게 멋진데서 잘 지내길..평생 기억할께 꼭 다시 만나자   \n",
       "1                               '신과 함께'와는 격이 다른 저승영화   \n",
       "2  박평식 : \"따뜻해, 삶을 껴안고 다독이는 죽음\" 박평식 평론가의 평점이 이렇게 공...   \n",
       "3  관람객사람이 진정으로 죽는 순간은 사랑하는 사람에게 잊혀졌을때..사랑하는 사람들을 ...   \n",
       "4  사람은 3번 죽는다.숨이 멎는 순간 생물학 적으로 죽고, 장례식에 온 하객들이 떠나...   \n",
       "\n",
       "                                         origin_text     감동     사랑     죽음  \\\n",
       "0      먼저 떠난 우리 아들도 저렇게 멋진데서 잘 지내길..평생 기억할께 꼭 다시 만나자  False  False  False   \n",
       "1                               '신과 함께'와는 격이 다른 저승영화  False  False  False   \n",
       "2  박평식 : \"따뜻해, 삶을 껴안고 다독이는 죽음\" 박평식 평론가의 평점이 이렇게 공...  False  False   True   \n",
       "3  관람객사람이 진정으로 죽는 순간은 사랑하는 사람에게 잊혀졌을때..사랑하는 사람들을 ...  False   True  False   \n",
       "4  사람은 3번 죽는다.숨이 멎는 순간 생물학 적으로 죽고, 장례식에 온 하객들이 떠나...  False  False   True   \n",
       "\n",
       "       울    할머니     아이     노래     픽사     추억     눈물  \n",
       "0  False  False  False  False  False  False  False  \n",
       "1  False  False  False  False  False  False  False  \n",
       "2  False  False  False  False  False  False  False  \n",
       "3  False  False  False  False  False  False  False  \n",
       "4  False  False  False  False  False  False  False  "
      ]
     },
     "execution_count": 139,
     "metadata": {},
     "output_type": "execute_result"
    }
   ],
   "source": [
    "search_keyword = ['감동', '사랑', '죽음', '울', \n",
    "                  '할머니', '아이', '노래', '픽사', \n",
    "                  '추억', '눈물']\n",
    "for keyword in search_keyword:\n",
    "    df[keyword] = df[\"text\"].str.contains(keyword)\n",
    "df.head()"
   ]
  },
  {
   "cell_type": "code",
   "execution_count": 111,
   "metadata": {},
   "outputs": [
    {
     "data": {
      "text/plain": [
       "0      False\n",
       "1      False\n",
       "2       True\n",
       "3      False\n",
       "4       True\n",
       "       ...  \n",
       "995    False\n",
       "996    False\n",
       "997    False\n",
       "998    False\n",
       "999     True\n",
       "Name: text, Length: 995, dtype: object"
      ]
     },
     "execution_count": 111,
     "metadata": {},
     "output_type": "execute_result"
    }
   ],
   "source": [
    "df[\"text\"].str.contains(\"죽음\")"
   ]
  },
  {
   "cell_type": "code",
   "execution_count": 112,
   "metadata": {},
   "outputs": [
    {
     "data": {
      "text/plain": [
       "(57, 12)"
      ]
     },
     "execution_count": 112,
     "metadata": {},
     "output_type": "execute_result"
    }
   ],
   "source": [
    "# setting flag na=False to prevent error:\n",
    "# Cannot mask with non-boolean array containing NA\n",
    "df_python = df[df[\"text\"].str.contains(\"죽음|추억\", na = False)].copy()\n",
    "df_python.shape"
   ]
  },
  {
   "cell_type": "markdown",
   "metadata": {},
   "source": [
    "#### Why boolean sum results as float type?\n",
    "\n",
    "[check here](https://stackoverflow.com/questions/38579297/why-doesnt-groupby-sum-convert-boolean-to-int-or-float)\n",
    "\n",
    "still don't understand"
   ]
  },
  {
   "cell_type": "code",
   "execution_count": 114,
   "metadata": {},
   "outputs": [
    {
     "data": {
      "text/plain": [
       "감동     216.0\n",
       "울      196.0\n",
       "눈물     128.0\n",
       "아이      66.0\n",
       "노래      62.0\n",
       "픽사      60.0\n",
       "죽음      55.0\n",
       "사랑      53.0\n",
       "할머니     51.0\n",
       "추억       4.0\n",
       "dtype: float64"
      ]
     },
     "execution_count": 114,
     "metadata": {},
     "output_type": "execute_result"
    }
   ],
   "source": [
    "df[search_keyword].sum().sort_values(ascending=False)"
   ]
  },
  {
   "cell_type": "code",
   "execution_count": 115,
   "metadata": {},
   "outputs": [
    {
     "name": "stdout",
     "output_type": "stream",
     "text": [
      "--------------------\n",
      "이 세상에서 더 이상 나를 기억하고 추억하는 이가 없다면 사후세계에서조차 사라지는 영원한 죽음을 맞이한다는게 서글펐다. 멕시코와 한국의 조상에 대한 정서와 추모 문화가 비슷하다는게 인상적.\n",
      "--------------------\n",
      "관람객리멤버미...너무나도 큰 감동을 얻고 울면서 극장을 나왔네요 문화는 달라도 죽은 이를 추억하는 그 마음은 동일함에 크나큰 감동을 느꼈습니다 여러번 볼 생각이에요 정말 좋은 영화입니다 :)\n",
      "--------------------\n",
      "떠난 사람들도 떠나 보낸 사람들도 기억해줘요... 이 순간에도 추억이라는 따뜻한 얼굴로 가슴속에 남아 있다는 것을.\n",
      "--------------------\n",
      "죽음을 넘어선 그 곳에서 다시 한 번 가족과 용서와 사랑을. 추억을.\n"
     ]
    }
   ],
   "source": [
    "text = df.loc[(df[\"추억\"] == True), \"text\"]\n",
    "for t in text:\n",
    "    print(\"-\"*20)\n",
    "    print(t)"
   ]
  },
  {
   "cell_type": "markdown",
   "metadata": {},
   "source": [
    "# TF-IDF"
   ]
  },
  {
   "cell_type": "code",
   "execution_count": 135,
   "metadata": {},
   "outputs": [
    {
     "data": {
      "text/plain": [
       "CountVectorizer(max_features=2000, min_df=2, ngram_range=(2, 6))"
      ]
     },
     "execution_count": 135,
     "metadata": {},
     "output_type": "execute_result"
    }
   ],
   "source": [
    "from sklearn.feature_extraction.text import CountVectorizer\n",
    "\n",
    "vectorizer = CountVectorizer(analyzer = 'word', # can vectorize by chars\n",
    "                             tokenizer = None,\n",
    "                             preprocessor = None,\n",
    "                             stop_words = None, # can use nltk\n",
    "                             min_df = 2,\n",
    "                             ngram_range=(2,6),\n",
    "                             max_features = 2000\n",
    "                            )\n",
    "vectorizer"
   ]
  },
  {
   "cell_type": "code",
   "execution_count": 136,
   "metadata": {},
   "outputs": [
    {
     "data": {
      "text/plain": [
       "(994, 317)"
      ]
     },
     "execution_count": 136,
     "metadata": {},
     "output_type": "execute_result"
    }
   ],
   "source": [
    "feature_vector = vectorizer.fit_transform(df['text']) # should delete nan values\n",
    "feature_vector.shape"
   ]
  },
  {
   "cell_type": "code",
   "execution_count": 137,
   "metadata": {},
   "outputs": [
    {
     "name": "stdout",
     "output_type": "stream",
     "text": [
      "317\n"
     ]
    },
    {
     "data": {
      "text/plain": [
       "['2018 최고의',\n",
       " 'me 노래',\n",
       " 'remeber me',\n",
       " 'remember me',\n",
       " 'remember me 노래',\n",
       " '가슴이 따뜻해지는',\n",
       " '가족에 대한',\n",
       " '가족의 소중함',\n",
       " '가족의 소중함을',\n",
       " '가족의 소중함을 일깨워주는']"
      ]
     },
     "execution_count": 137,
     "metadata": {},
     "output_type": "execute_result"
    }
   ],
   "source": [
    "vocab = vectorizer.get_feature_names()\n",
    "print(len(vocab))\n",
    "vocab[:10]"
   ]
  },
  {
   "cell_type": "code",
   "execution_count": 140,
   "metadata": {},
   "outputs": [
    {
     "data": {
      "text/html": [
       "<div>\n",
       "<style scoped>\n",
       "    .dataframe tbody tr th:only-of-type {\n",
       "        vertical-align: middle;\n",
       "    }\n",
       "\n",
       "    .dataframe tbody tr th {\n",
       "        vertical-align: top;\n",
       "    }\n",
       "\n",
       "    .dataframe thead th {\n",
       "        text-align: right;\n",
       "    }\n",
       "</style>\n",
       "<table border=\"1\" class=\"dataframe\">\n",
       "  <thead>\n",
       "    <tr style=\"text-align: right;\">\n",
       "      <th></th>\n",
       "      <th>2018 최고의</th>\n",
       "      <th>me 노래</th>\n",
       "      <th>remeber me</th>\n",
       "      <th>remember me</th>\n",
       "      <th>remember me 노래</th>\n",
       "      <th>가슴이 따뜻해지는</th>\n",
       "      <th>가족에 대한</th>\n",
       "      <th>가족의 소중함</th>\n",
       "      <th>가족의 소중함을</th>\n",
       "      <th>가족의 소중함을 일깨워주는</th>\n",
       "      <th>...</th>\n",
       "      <th>할머니 보고싶다</th>\n",
       "      <th>할머니 생각이</th>\n",
       "      <th>할머니 손잡고</th>\n",
       "      <th>함께 눈물을</th>\n",
       "      <th>함께 보면</th>\n",
       "      <th>함께 봤는데</th>\n",
       "      <th>해주는 영화</th>\n",
       "      <th>해준 영화</th>\n",
       "      <th>행복해지는 영화</th>\n",
       "      <th>훨씬 낫다</th>\n",
       "    </tr>\n",
       "  </thead>\n",
       "  <tbody>\n",
       "    <tr>\n",
       "      <th>0</th>\n",
       "      <td>0</td>\n",
       "      <td>0</td>\n",
       "      <td>0</td>\n",
       "      <td>0</td>\n",
       "      <td>0</td>\n",
       "      <td>0</td>\n",
       "      <td>0</td>\n",
       "      <td>0</td>\n",
       "      <td>0</td>\n",
       "      <td>0</td>\n",
       "      <td>...</td>\n",
       "      <td>0</td>\n",
       "      <td>0</td>\n",
       "      <td>0</td>\n",
       "      <td>0</td>\n",
       "      <td>0</td>\n",
       "      <td>0</td>\n",
       "      <td>0</td>\n",
       "      <td>0</td>\n",
       "      <td>0</td>\n",
       "      <td>0</td>\n",
       "    </tr>\n",
       "    <tr>\n",
       "      <th>1</th>\n",
       "      <td>0</td>\n",
       "      <td>0</td>\n",
       "      <td>0</td>\n",
       "      <td>0</td>\n",
       "      <td>0</td>\n",
       "      <td>0</td>\n",
       "      <td>0</td>\n",
       "      <td>0</td>\n",
       "      <td>0</td>\n",
       "      <td>0</td>\n",
       "      <td>...</td>\n",
       "      <td>0</td>\n",
       "      <td>0</td>\n",
       "      <td>0</td>\n",
       "      <td>0</td>\n",
       "      <td>0</td>\n",
       "      <td>0</td>\n",
       "      <td>0</td>\n",
       "      <td>0</td>\n",
       "      <td>0</td>\n",
       "      <td>0</td>\n",
       "    </tr>\n",
       "    <tr>\n",
       "      <th>2</th>\n",
       "      <td>1</td>\n",
       "      <td>0</td>\n",
       "      <td>0</td>\n",
       "      <td>0</td>\n",
       "      <td>0</td>\n",
       "      <td>0</td>\n",
       "      <td>0</td>\n",
       "      <td>0</td>\n",
       "      <td>0</td>\n",
       "      <td>0</td>\n",
       "      <td>...</td>\n",
       "      <td>0</td>\n",
       "      <td>0</td>\n",
       "      <td>0</td>\n",
       "      <td>0</td>\n",
       "      <td>0</td>\n",
       "      <td>0</td>\n",
       "      <td>0</td>\n",
       "      <td>0</td>\n",
       "      <td>0</td>\n",
       "      <td>0</td>\n",
       "    </tr>\n",
       "    <tr>\n",
       "      <th>3</th>\n",
       "      <td>0</td>\n",
       "      <td>0</td>\n",
       "      <td>0</td>\n",
       "      <td>1</td>\n",
       "      <td>0</td>\n",
       "      <td>0</td>\n",
       "      <td>0</td>\n",
       "      <td>0</td>\n",
       "      <td>0</td>\n",
       "      <td>0</td>\n",
       "      <td>...</td>\n",
       "      <td>0</td>\n",
       "      <td>0</td>\n",
       "      <td>0</td>\n",
       "      <td>0</td>\n",
       "      <td>0</td>\n",
       "      <td>0</td>\n",
       "      <td>0</td>\n",
       "      <td>0</td>\n",
       "      <td>0</td>\n",
       "      <td>0</td>\n",
       "    </tr>\n",
       "    <tr>\n",
       "      <th>4</th>\n",
       "      <td>0</td>\n",
       "      <td>0</td>\n",
       "      <td>0</td>\n",
       "      <td>0</td>\n",
       "      <td>0</td>\n",
       "      <td>0</td>\n",
       "      <td>0</td>\n",
       "      <td>0</td>\n",
       "      <td>0</td>\n",
       "      <td>0</td>\n",
       "      <td>...</td>\n",
       "      <td>0</td>\n",
       "      <td>0</td>\n",
       "      <td>0</td>\n",
       "      <td>0</td>\n",
       "      <td>0</td>\n",
       "      <td>0</td>\n",
       "      <td>0</td>\n",
       "      <td>0</td>\n",
       "      <td>0</td>\n",
       "      <td>0</td>\n",
       "    </tr>\n",
       "  </tbody>\n",
       "</table>\n",
       "<p>5 rows × 317 columns</p>\n",
       "</div>"
      ],
      "text/plain": [
       "   2018 최고의  me 노래  remeber me  remember me  remember me 노래  가슴이 따뜻해지는  \\\n",
       "0         0      0           0            0               0          0   \n",
       "1         0      0           0            0               0          0   \n",
       "2         1      0           0            0               0          0   \n",
       "3         0      0           0            1               0          0   \n",
       "4         0      0           0            0               0          0   \n",
       "\n",
       "   가족에 대한  가족의 소중함  가족의 소중함을  가족의 소중함을 일깨워주는  ...  할머니 보고싶다  할머니 생각이  할머니 손잡고  \\\n",
       "0       0        0         0               0  ...         0        0        0   \n",
       "1       0        0         0               0  ...         0        0        0   \n",
       "2       0        0         0               0  ...         0        0        0   \n",
       "3       0        0         0               0  ...         0        0        0   \n",
       "4       0        0         0               0  ...         0        0        0   \n",
       "\n",
       "   함께 눈물을  함께 보면  함께 봤는데  해주는 영화  해준 영화  행복해지는 영화  훨씬 낫다  \n",
       "0       0      0       0       0      0         0      0  \n",
       "1       0      0       0       0      0         0      0  \n",
       "2       0      0       0       0      0         0      0  \n",
       "3       0      0       0       0      0         0      0  \n",
       "4       0      0       0       0      0         0      0  \n",
       "\n",
       "[5 rows x 317 columns]"
      ]
     },
     "execution_count": 140,
     "metadata": {},
     "output_type": "execute_result"
    }
   ],
   "source": [
    "pd.DataFrame(feature_vector[:10].toarray(), columns = vocab).head()"
   ]
  },
  {
   "cell_type": "code",
   "execution_count": 141,
   "metadata": {},
   "outputs": [
    {
     "data": {
      "text/html": [
       "<div>\n",
       "<style scoped>\n",
       "    .dataframe tbody tr th:only-of-type {\n",
       "        vertical-align: middle;\n",
       "    }\n",
       "\n",
       "    .dataframe tbody tr th {\n",
       "        vertical-align: top;\n",
       "    }\n",
       "\n",
       "    .dataframe thead th {\n",
       "        text-align: right;\n",
       "    }\n",
       "</style>\n",
       "<table border=\"1\" class=\"dataframe\">\n",
       "  <thead>\n",
       "    <tr style=\"text-align: right;\">\n",
       "      <th></th>\n",
       "      <th>2018 최고의</th>\n",
       "      <th>me 노래</th>\n",
       "      <th>remeber me</th>\n",
       "      <th>remember me</th>\n",
       "      <th>remember me 노래</th>\n",
       "      <th>가슴이 따뜻해지는</th>\n",
       "      <th>가족에 대한</th>\n",
       "      <th>가족의 소중함</th>\n",
       "      <th>가족의 소중함을</th>\n",
       "      <th>가족의 소중함을 일깨워주는</th>\n",
       "      <th>...</th>\n",
       "      <th>할머니 보고싶다</th>\n",
       "      <th>할머니 생각이</th>\n",
       "      <th>할머니 손잡고</th>\n",
       "      <th>함께 눈물을</th>\n",
       "      <th>함께 보면</th>\n",
       "      <th>함께 봤는데</th>\n",
       "      <th>해주는 영화</th>\n",
       "      <th>해준 영화</th>\n",
       "      <th>행복해지는 영화</th>\n",
       "      <th>훨씬 낫다</th>\n",
       "    </tr>\n",
       "  </thead>\n",
       "  <tbody>\n",
       "    <tr>\n",
       "      <th>0</th>\n",
       "      <td>2</td>\n",
       "      <td>2</td>\n",
       "      <td>2</td>\n",
       "      <td>17</td>\n",
       "      <td>2</td>\n",
       "      <td>2</td>\n",
       "      <td>2</td>\n",
       "      <td>3</td>\n",
       "      <td>10</td>\n",
       "      <td>4</td>\n",
       "      <td>...</td>\n",
       "      <td>2</td>\n",
       "      <td>2</td>\n",
       "      <td>2</td>\n",
       "      <td>2</td>\n",
       "      <td>2</td>\n",
       "      <td>2</td>\n",
       "      <td>2</td>\n",
       "      <td>2</td>\n",
       "      <td>2</td>\n",
       "      <td>2</td>\n",
       "    </tr>\n",
       "  </tbody>\n",
       "</table>\n",
       "<p>1 rows × 317 columns</p>\n",
       "</div>"
      ],
      "text/plain": [
       "   2018 최고의  me 노래  remeber me  remember me  remember me 노래  가슴이 따뜻해지는  \\\n",
       "0         2      2           2           17               2          2   \n",
       "\n",
       "   가족에 대한  가족의 소중함  가족의 소중함을  가족의 소중함을 일깨워주는  ...  할머니 보고싶다  할머니 생각이  할머니 손잡고  \\\n",
       "0       2        3        10               4  ...         2        2        2   \n",
       "\n",
       "   함께 눈물을  함께 보면  함께 봤는데  해주는 영화  해준 영화  행복해지는 영화  훨씬 낫다  \n",
       "0       2      2       2       2      2         2      2  \n",
       "\n",
       "[1 rows x 317 columns]"
      ]
     },
     "execution_count": 141,
     "metadata": {},
     "output_type": "execute_result"
    }
   ],
   "source": [
    "dist = np.sum(feature_vector, axis=0)\n",
    "df_freq = pd.DataFrame(dist, columns =vocab)\n",
    "df_freq"
   ]
  },
  {
   "cell_type": "code",
   "execution_count": 142,
   "metadata": {},
   "outputs": [
    {
     "data": {
      "text/html": [
       "<div>\n",
       "<style scoped>\n",
       "    .dataframe tbody tr th:only-of-type {\n",
       "        vertical-align: middle;\n",
       "    }\n",
       "\n",
       "    .dataframe tbody tr th {\n",
       "        vertical-align: top;\n",
       "    }\n",
       "\n",
       "    .dataframe thead th {\n",
       "        text-align: right;\n",
       "    }\n",
       "</style>\n",
       "<table border=\"1\" class=\"dataframe\">\n",
       "  <thead>\n",
       "    <tr style=\"text-align: right;\">\n",
       "      <th></th>\n",
       "      <th>0</th>\n",
       "    </tr>\n",
       "  </thead>\n",
       "  <tbody>\n",
       "    <tr>\n",
       "      <th>remember me</th>\n",
       "      <td>17</td>\n",
       "    </tr>\n",
       "    <tr>\n",
       "      <th>최고의 영화</th>\n",
       "      <td>15</td>\n",
       "    </tr>\n",
       "    <tr>\n",
       "      <th>가족의 소중함을</th>\n",
       "      <td>10</td>\n",
       "    </tr>\n",
       "    <tr>\n",
       "      <th>최고의 애니메이션</th>\n",
       "      <td>8</td>\n",
       "    </tr>\n",
       "    <tr>\n",
       "      <th>최고의 영화입니다</th>\n",
       "      <td>7</td>\n",
       "    </tr>\n",
       "    <tr>\n",
       "      <th>펑펑 울었네요</th>\n",
       "      <td>6</td>\n",
       "    </tr>\n",
       "    <tr>\n",
       "      <th>스포일러가 포함된 감상평입니다</th>\n",
       "      <td>5</td>\n",
       "    </tr>\n",
       "    <tr>\n",
       "      <th>스포일러가 포함된</th>\n",
       "      <td>5</td>\n",
       "    </tr>\n",
       "    <tr>\n",
       "      <th>감동적인 영화</th>\n",
       "      <td>5</td>\n",
       "    </tr>\n",
       "    <tr>\n",
       "      <th>포함된 감상평입니다 감상평</th>\n",
       "      <td>5</td>\n",
       "    </tr>\n",
       "  </tbody>\n",
       "</table>\n",
       "</div>"
      ],
      "text/plain": [
       "                   0\n",
       "remember me       17\n",
       "최고의 영화            15\n",
       "가족의 소중함을          10\n",
       "최고의 애니메이션          8\n",
       "최고의 영화입니다          7\n",
       "펑펑 울었네요            6\n",
       "스포일러가 포함된 감상평입니다   5\n",
       "스포일러가 포함된          5\n",
       "감동적인 영화            5\n",
       "포함된 감상평입니다 감상평     5"
      ]
     },
     "execution_count": 142,
     "metadata": {},
     "output_type": "execute_result"
    }
   ],
   "source": [
    "df_freq.T.sort_values(by=0, ascending=False).head(10)"
   ]
  },
  {
   "cell_type": "code",
   "execution_count": 144,
   "metadata": {},
   "outputs": [
    {
     "data": {
      "text/plain": [
       "TfidfTransformer(smooth_idf=False)"
      ]
     },
     "execution_count": 144,
     "metadata": {},
     "output_type": "execute_result"
    }
   ],
   "source": [
    "from sklearn.feature_extraction.text import TfidfTransformer\n",
    "transformer = TfidfTransformer(norm='l2',smooth_idf = False)\n",
    "transformer"
   ]
  },
  {
   "cell_type": "code",
   "execution_count": 145,
   "metadata": {},
   "outputs": [
    {
     "name": "stdout",
     "output_type": "stream",
     "text": [
      "Wall time: 5 ms\n"
     ]
    },
    {
     "data": {
      "text/plain": [
       "(994, 317)"
      ]
     },
     "execution_count": 145,
     "metadata": {},
     "output_type": "execute_result"
    }
   ],
   "source": [
    "%%time\n",
    "feature_tfidf = transformer.fit_transform(feature_vector)\n",
    "feature_tfidf.shape"
   ]
  },
  {
   "cell_type": "code",
   "execution_count": 146,
   "metadata": {},
   "outputs": [
    {
     "data": {
      "text/plain": [
       "<994x317 sparse matrix of type '<class 'numpy.float64'>'\n",
       "\twith 802 stored elements in Compressed Sparse Row format>"
      ]
     },
     "execution_count": 146,
     "metadata": {},
     "output_type": "execute_result"
    }
   ],
   "source": [
    "feature_tfidf"
   ]
  },
  {
   "cell_type": "code",
   "execution_count": 147,
   "metadata": {},
   "outputs": [
    {
     "data": {
      "text/html": [
       "<div>\n",
       "<style scoped>\n",
       "    .dataframe tbody tr th:only-of-type {\n",
       "        vertical-align: middle;\n",
       "    }\n",
       "\n",
       "    .dataframe tbody tr th {\n",
       "        vertical-align: top;\n",
       "    }\n",
       "\n",
       "    .dataframe thead th {\n",
       "        text-align: right;\n",
       "    }\n",
       "</style>\n",
       "<table border=\"1\" class=\"dataframe\">\n",
       "  <thead>\n",
       "    <tr style=\"text-align: right;\">\n",
       "      <th></th>\n",
       "      <th>2018 최고의</th>\n",
       "      <th>me 노래</th>\n",
       "      <th>remeber me</th>\n",
       "      <th>remember me</th>\n",
       "      <th>remember me 노래</th>\n",
       "      <th>가슴이 따뜻해지는</th>\n",
       "      <th>가족에 대한</th>\n",
       "      <th>가족의 소중함</th>\n",
       "      <th>가족의 소중함을</th>\n",
       "      <th>가족의 소중함을 일깨워주는</th>\n",
       "      <th>...</th>\n",
       "      <th>할머니 보고싶다</th>\n",
       "      <th>할머니 생각이</th>\n",
       "      <th>할머니 손잡고</th>\n",
       "      <th>함께 눈물을</th>\n",
       "      <th>함께 보면</th>\n",
       "      <th>함께 봤는데</th>\n",
       "      <th>해주는 영화</th>\n",
       "      <th>해준 영화</th>\n",
       "      <th>행복해지는 영화</th>\n",
       "      <th>훨씬 낫다</th>\n",
       "    </tr>\n",
       "  </thead>\n",
       "  <tbody>\n",
       "    <tr>\n",
       "      <th>0</th>\n",
       "      <td>0.000000</td>\n",
       "      <td>0.0</td>\n",
       "      <td>0.0</td>\n",
       "      <td>0.00000</td>\n",
       "      <td>0.0</td>\n",
       "      <td>0.0</td>\n",
       "      <td>0.0</td>\n",
       "      <td>0.0</td>\n",
       "      <td>0.0</td>\n",
       "      <td>0.0</td>\n",
       "      <td>...</td>\n",
       "      <td>0.0</td>\n",
       "      <td>0.0</td>\n",
       "      <td>0.0</td>\n",
       "      <td>0.0</td>\n",
       "      <td>0.0</td>\n",
       "      <td>0.0</td>\n",
       "      <td>0.0</td>\n",
       "      <td>0.0</td>\n",
       "      <td>0.0</td>\n",
       "      <td>0.0</td>\n",
       "    </tr>\n",
       "    <tr>\n",
       "      <th>1</th>\n",
       "      <td>0.000000</td>\n",
       "      <td>0.0</td>\n",
       "      <td>0.0</td>\n",
       "      <td>0.00000</td>\n",
       "      <td>0.0</td>\n",
       "      <td>0.0</td>\n",
       "      <td>0.0</td>\n",
       "      <td>0.0</td>\n",
       "      <td>0.0</td>\n",
       "      <td>0.0</td>\n",
       "      <td>...</td>\n",
       "      <td>0.0</td>\n",
       "      <td>0.0</td>\n",
       "      <td>0.0</td>\n",
       "      <td>0.0</td>\n",
       "      <td>0.0</td>\n",
       "      <td>0.0</td>\n",
       "      <td>0.0</td>\n",
       "      <td>0.0</td>\n",
       "      <td>0.0</td>\n",
       "      <td>0.0</td>\n",
       "    </tr>\n",
       "    <tr>\n",
       "      <th>2</th>\n",
       "      <td>0.286635</td>\n",
       "      <td>0.0</td>\n",
       "      <td>0.0</td>\n",
       "      <td>0.00000</td>\n",
       "      <td>0.0</td>\n",
       "      <td>0.0</td>\n",
       "      <td>0.0</td>\n",
       "      <td>0.0</td>\n",
       "      <td>0.0</td>\n",
       "      <td>0.0</td>\n",
       "      <td>...</td>\n",
       "      <td>0.0</td>\n",
       "      <td>0.0</td>\n",
       "      <td>0.0</td>\n",
       "      <td>0.0</td>\n",
       "      <td>0.0</td>\n",
       "      <td>0.0</td>\n",
       "      <td>0.0</td>\n",
       "      <td>0.0</td>\n",
       "      <td>0.0</td>\n",
       "      <td>0.0</td>\n",
       "    </tr>\n",
       "    <tr>\n",
       "      <th>3</th>\n",
       "      <td>0.000000</td>\n",
       "      <td>0.0</td>\n",
       "      <td>0.0</td>\n",
       "      <td>0.34447</td>\n",
       "      <td>0.0</td>\n",
       "      <td>0.0</td>\n",
       "      <td>0.0</td>\n",
       "      <td>0.0</td>\n",
       "      <td>0.0</td>\n",
       "      <td>0.0</td>\n",
       "      <td>...</td>\n",
       "      <td>0.0</td>\n",
       "      <td>0.0</td>\n",
       "      <td>0.0</td>\n",
       "      <td>0.0</td>\n",
       "      <td>0.0</td>\n",
       "      <td>0.0</td>\n",
       "      <td>0.0</td>\n",
       "      <td>0.0</td>\n",
       "      <td>0.0</td>\n",
       "      <td>0.0</td>\n",
       "    </tr>\n",
       "    <tr>\n",
       "      <th>4</th>\n",
       "      <td>0.000000</td>\n",
       "      <td>0.0</td>\n",
       "      <td>0.0</td>\n",
       "      <td>0.00000</td>\n",
       "      <td>0.0</td>\n",
       "      <td>0.0</td>\n",
       "      <td>0.0</td>\n",
       "      <td>0.0</td>\n",
       "      <td>0.0</td>\n",
       "      <td>0.0</td>\n",
       "      <td>...</td>\n",
       "      <td>0.0</td>\n",
       "      <td>0.0</td>\n",
       "      <td>0.0</td>\n",
       "      <td>0.0</td>\n",
       "      <td>0.0</td>\n",
       "      <td>0.0</td>\n",
       "      <td>0.0</td>\n",
       "      <td>0.0</td>\n",
       "      <td>0.0</td>\n",
       "      <td>0.0</td>\n",
       "    </tr>\n",
       "  </tbody>\n",
       "</table>\n",
       "<p>5 rows × 317 columns</p>\n",
       "</div>"
      ],
      "text/plain": [
       "   2018 최고의  me 노래  remeber me  remember me  remember me 노래  가슴이 따뜻해지는  \\\n",
       "0  0.000000    0.0         0.0      0.00000             0.0        0.0   \n",
       "1  0.000000    0.0         0.0      0.00000             0.0        0.0   \n",
       "2  0.286635    0.0         0.0      0.00000             0.0        0.0   \n",
       "3  0.000000    0.0         0.0      0.34447             0.0        0.0   \n",
       "4  0.000000    0.0         0.0      0.00000             0.0        0.0   \n",
       "\n",
       "   가족에 대한  가족의 소중함  가족의 소중함을  가족의 소중함을 일깨워주는  ...  할머니 보고싶다  할머니 생각이  할머니 손잡고  \\\n",
       "0     0.0      0.0       0.0             0.0  ...       0.0      0.0      0.0   \n",
       "1     0.0      0.0       0.0             0.0  ...       0.0      0.0      0.0   \n",
       "2     0.0      0.0       0.0             0.0  ...       0.0      0.0      0.0   \n",
       "3     0.0      0.0       0.0             0.0  ...       0.0      0.0      0.0   \n",
       "4     0.0      0.0       0.0             0.0  ...       0.0      0.0      0.0   \n",
       "\n",
       "   함께 눈물을  함께 보면  함께 봤는데  해주는 영화  해준 영화  행복해지는 영화  훨씬 낫다  \n",
       "0     0.0    0.0     0.0     0.0    0.0       0.0    0.0  \n",
       "1     0.0    0.0     0.0     0.0    0.0       0.0    0.0  \n",
       "2     0.0    0.0     0.0     0.0    0.0       0.0    0.0  \n",
       "3     0.0    0.0     0.0     0.0    0.0       0.0    0.0  \n",
       "4     0.0    0.0     0.0     0.0    0.0       0.0    0.0  \n",
       "\n",
       "[5 rows x 317 columns]"
      ]
     },
     "execution_count": 147,
     "metadata": {},
     "output_type": "execute_result"
    }
   ],
   "source": [
    "tfidf_freq = pd.DataFrame(feature_tfidf.toarray(), columns = vocab)\n",
    "tfidf_freq.head()"
   ]
  },
  {
   "cell_type": "code",
   "execution_count": 150,
   "metadata": {},
   "outputs": [
    {
     "data": {
      "text/html": [
       "<div>\n",
       "<style scoped>\n",
       "    .dataframe tbody tr th:only-of-type {\n",
       "        vertical-align: middle;\n",
       "    }\n",
       "\n",
       "    .dataframe tbody tr th {\n",
       "        vertical-align: top;\n",
       "    }\n",
       "\n",
       "    .dataframe thead th {\n",
       "        text-align: right;\n",
       "    }\n",
       "</style>\n",
       "<table border=\"1\" class=\"dataframe\">\n",
       "  <thead>\n",
       "    <tr style=\"text-align: right;\">\n",
       "      <th></th>\n",
       "      <th>0</th>\n",
       "    </tr>\n",
       "  </thead>\n",
       "  <tbody>\n",
       "    <tr>\n",
       "      <th>remember me</th>\n",
       "      <td>12.539645</td>\n",
       "    </tr>\n",
       "    <tr>\n",
       "      <th>최고의 영화</th>\n",
       "      <td>11.706477</td>\n",
       "    </tr>\n",
       "    <tr>\n",
       "      <th>가족의 소중함을</th>\n",
       "      <td>5.831220</td>\n",
       "    </tr>\n",
       "    <tr>\n",
       "      <th>감동적인 영화</th>\n",
       "      <td>4.657603</td>\n",
       "    </tr>\n",
       "    <tr>\n",
       "      <th>최고의 영화입니다</th>\n",
       "      <td>4.439530</td>\n",
       "    </tr>\n",
       "    <tr>\n",
       "      <th>펑펑 울었다</th>\n",
       "      <td>4.428824</td>\n",
       "    </tr>\n",
       "    <tr>\n",
       "      <th>최고의 애니메이션</th>\n",
       "      <td>4.322736</td>\n",
       "    </tr>\n",
       "    <tr>\n",
       "      <th>펑펑 울었네요</th>\n",
       "      <td>4.121193</td>\n",
       "    </tr>\n",
       "    <tr>\n",
       "      <th>다시 만나요</th>\n",
       "      <td>3.972810</td>\n",
       "    </tr>\n",
       "    <tr>\n",
       "      <th>믿고보는 디즈니</th>\n",
       "      <td>3.691672</td>\n",
       "    </tr>\n",
       "  </tbody>\n",
       "</table>\n",
       "</div>"
      ],
      "text/plain": [
       "                     0\n",
       "remember me  12.539645\n",
       "최고의 영화       11.706477\n",
       "가족의 소중함을      5.831220\n",
       "감동적인 영화       4.657603\n",
       "최고의 영화입니다     4.439530\n",
       "펑펑 울었다        4.428824\n",
       "최고의 애니메이션     4.322736\n",
       "펑펑 울었네요       4.121193\n",
       "다시 만나요        3.972810\n",
       "믿고보는 디즈니      3.691672"
      ]
     },
     "execution_count": 150,
     "metadata": {},
     "output_type": "execute_result"
    }
   ],
   "source": [
    "df_tfidf = pd.DataFrame(tfidf_freq.sum())\n",
    "df_tfidf_top = df_tfidf.sort_values(by=0, ascending=False)\n",
    "df_tfidf_top.head(10)"
   ]
  },
  {
   "cell_type": "markdown",
   "metadata": {},
   "source": [
    "# Clustering"
   ]
  },
  {
   "cell_type": "code",
   "execution_count": 152,
   "metadata": {},
   "outputs": [
    {
     "name": "stderr",
     "output_type": "stream",
     "text": [
      "100%|██████████| 40/40 [00:09<00:00,  4.20it/s]\n"
     ]
    }
   ],
   "source": [
    "from sklearn.cluster import KMeans\n",
    "\n",
    "inertia = []\n",
    "start = 10\n",
    "end = 50\n",
    "\n",
    "# to find proper number of clusters - need to know inertia\n",
    "for i in trange(start, end):\n",
    "    cls = KMeans(n_clusters=i, random_state=42)\n",
    "    cls.fit(feature_vector)\n",
    "    inertia.append(cls.inertia_)\n",
    "    \n"
   ]
  },
  {
   "cell_type": "code",
   "execution_count": 153,
   "metadata": {},
   "outputs": [
    {
     "data": {
      "text/plain": [
       "Text(0.5, 1.0, '# of KMeans clusters')"
      ]
     },
     "execution_count": 153,
     "metadata": {},
     "output_type": "execute_result"
    },
    {
     "data": {
      "image/png": "[encoded data removed]",
      "text/plain": [
       "<Figure size 432x288 with 1 Axes>"
      ]
     },
     "metadata": {
      "image/png": {
       "height": 264,
       "width": 372
      },
      "needs_background": "light"
     },
     "output_type": "display_data"
    }
   ],
   "source": [
    "plt.plot(range(start,end), inertia)\n",
    "plt.title(\"# of KMeans clusters\") # y is inertia value - ?"
   ]
  },
  {
   "cell_type": "code",
   "execution_count": 157,
   "metadata": {},
   "outputs": [
    {
     "data": {
      "text/plain": [
       "0     919\n",
       "6      16\n",
       "18     13\n",
       "11     10\n",
       "2       5\n",
       "12      3\n",
       "10      3\n",
       "9       3\n",
       "14      3\n",
       "15      2\n",
       "Name: cluster, dtype: int64"
      ]
     },
     "execution_count": 157,
     "metadata": {},
     "output_type": "execute_result"
    }
   ],
   "source": [
    "n_clusters = 20\n",
    "cls = KMeans(n_clusters=n_clusters, random_state=42)\n",
    "cls.fit(feature_vector)\n",
    "predict = cls.predict(feature_vector)\n",
    "df[\"cluster\"] = predict\n",
    "df[\"cluster\"].value_counts().head(10)"
   ]
  },
  {
   "cell_type": "code",
   "execution_count": 167,
   "metadata": {},
   "outputs": [
    {
     "name": "stderr",
     "output_type": "stream",
     "text": [
      "100%|██████████| 40/40 [00:02<00:00, 18.50it/s]\n"
     ]
    }
   ],
   "source": [
    "from sklearn.cluster import MiniBatchKMeans\n",
    "b_inertia = []\n",
    "\n",
    "for i in trange(start, end):\n",
    "    cls = MiniBatchKMeans(n_clusters=i, random_state =42)\n",
    "    cls.fit(feature_vector)\n",
    "    b_inertia.append(cls.inertia_)"
   ]
  },
  {
   "cell_type": "code",
   "execution_count": 168,
   "metadata": {},
   "outputs": [
    {
     "data": {
      "text/plain": [
       "Text(0.5, 1.0, '# of KMeans clusters')"
      ]
     },
     "execution_count": 168,
     "metadata": {},
     "output_type": "execute_result"
    },
    {
     "data": {
      "image/png": "[encoded data removed]",
      "text/plain": [
       "<Figure size 432x288 with 1 Axes>"
      ]
     },
     "metadata": {
      "image/png": {
       "height": 264,
       "width": 372
      },
      "needs_background": "light"
     },
     "output_type": "display_data"
    }
   ],
   "source": [
    "plt.plot(range(start,end), b_inertia)\n",
    "plt.title(\"# of KMeans clusters\")"
   ]
  },
  {
   "cell_type": "code",
   "execution_count": 169,
   "metadata": {},
   "outputs": [
    {
     "data": {
      "text/plain": [
       "17    617\n",
       "2     247\n",
       "1      28\n",
       "3      28\n",
       "12     11\n",
       "8      11\n",
       "0      10\n",
       "16      8\n",
       "6       8\n",
       "10      6\n",
       "Name: bcluster, dtype: int64"
      ]
     },
     "execution_count": 169,
     "metadata": {},
     "output_type": "execute_result"
    }
   ],
   "source": [
    "cls = MiniBatchKMeans(n_clusters=n_clusters, random_state=42)\n",
    "cls.fit(feature_vector)\n",
    "predict = cls.predict(feature_vector)\n",
    "df[\"bcluster\"] = predict\n",
    "df[\"bcluster\"].value_counts().head(10)"
   ]
  },
  {
   "cell_type": "code",
   "execution_count": 171,
   "metadata": {},
   "outputs": [
    {
     "data": {
      "text/html": [
       "<div>\n",
       "<style scoped>\n",
       "    .dataframe tbody tr th:only-of-type {\n",
       "        vertical-align: middle;\n",
       "    }\n",
       "\n",
       "    .dataframe tbody tr th {\n",
       "        vertical-align: top;\n",
       "    }\n",
       "\n",
       "    .dataframe thead th {\n",
       "        text-align: right;\n",
       "    }\n",
       "</style>\n",
       "<table border=\"1\" class=\"dataframe\">\n",
       "  <thead>\n",
       "    <tr style=\"text-align: right;\">\n",
       "      <th></th>\n",
       "      <th>text</th>\n",
       "      <th>origin_text</th>\n",
       "      <th>감동</th>\n",
       "      <th>사랑</th>\n",
       "      <th>죽음</th>\n",
       "      <th>울</th>\n",
       "      <th>할머니</th>\n",
       "      <th>아이</th>\n",
       "      <th>노래</th>\n",
       "      <th>픽사</th>\n",
       "      <th>추억</th>\n",
       "      <th>눈물</th>\n",
       "      <th>cluster</th>\n",
       "      <th>bcluster</th>\n",
       "    </tr>\n",
       "  </thead>\n",
       "  <tbody>\n",
       "    <tr>\n",
       "      <th>14</th>\n",
       "      <td>진짜 픽사영화를 보면 인생이 뭔지 다시 생각하게 된다</td>\n",
       "      <td>진짜 픽사영화를 보면 인생이 뭔지 다시 생각하게 된다</td>\n",
       "      <td>False</td>\n",
       "      <td>False</td>\n",
       "      <td>False</td>\n",
       "      <td>False</td>\n",
       "      <td>False</td>\n",
       "      <td>False</td>\n",
       "      <td>False</td>\n",
       "      <td>True</td>\n",
       "      <td>False</td>\n",
       "      <td>False</td>\n",
       "      <td>0</td>\n",
       "      <td>8</td>\n",
       "    </tr>\n",
       "    <tr>\n",
       "      <th>43</th>\n",
       "      <td>가족이 무엇인지 다시 생각하게 해주는 영화..아이들은 1도 안우는데 나만 눈물바다된...</td>\n",
       "      <td>관람객가족이 무엇인지 다시 생각하게 해주는 영화..아이들은 1도 안우는데 나만 눈물...</td>\n",
       "      <td>False</td>\n",
       "      <td>False</td>\n",
       "      <td>False</td>\n",
       "      <td>False</td>\n",
       "      <td>False</td>\n",
       "      <td>True</td>\n",
       "      <td>False</td>\n",
       "      <td>False</td>\n",
       "      <td>False</td>\n",
       "      <td>True</td>\n",
       "      <td>0</td>\n",
       "      <td>8</td>\n",
       "    </tr>\n",
       "    <tr>\n",
       "      <th>366</th>\n",
       "      <td>아 그냥 진짜 최고다... 애니메이션 보면서 이렇게 울어본 적이 없는데ㅠㅠ 너무 감...</td>\n",
       "      <td>아 그냥 진짜 최고다... 애니메이션 보면서 이렇게 울어본 적이 없는데ㅠㅠ 너무 감...</td>\n",
       "      <td>True</td>\n",
       "      <td>False</td>\n",
       "      <td>False</td>\n",
       "      <td>True</td>\n",
       "      <td>False</td>\n",
       "      <td>False</td>\n",
       "      <td>False</td>\n",
       "      <td>False</td>\n",
       "      <td>False</td>\n",
       "      <td>False</td>\n",
       "      <td>0</td>\n",
       "      <td>8</td>\n",
       "    </tr>\n",
       "    <tr>\n",
       "      <th>389</th>\n",
       "      <td>사십중반에 애니메이션 보면서 울었다</td>\n",
       "      <td>사십중반에 애니메이션 보면서 울었다</td>\n",
       "      <td>False</td>\n",
       "      <td>False</td>\n",
       "      <td>False</td>\n",
       "      <td>True</td>\n",
       "      <td>False</td>\n",
       "      <td>False</td>\n",
       "      <td>False</td>\n",
       "      <td>False</td>\n",
       "      <td>False</td>\n",
       "      <td>False</td>\n",
       "      <td>0</td>\n",
       "      <td>8</td>\n",
       "    </tr>\n",
       "    <tr>\n",
       "      <th>416</th>\n",
       "      <td>펑펑 울었네요 너무 감동적이에요</td>\n",
       "      <td>펑펑 울었네요 너무 감동적이에요</td>\n",
       "      <td>True</td>\n",
       "      <td>False</td>\n",
       "      <td>False</td>\n",
       "      <td>True</td>\n",
       "      <td>False</td>\n",
       "      <td>False</td>\n",
       "      <td>False</td>\n",
       "      <td>False</td>\n",
       "      <td>False</td>\n",
       "      <td>False</td>\n",
       "      <td>0</td>\n",
       "      <td>8</td>\n",
       "    </tr>\n",
       "  </tbody>\n",
       "</table>\n",
       "</div>"
      ],
      "text/plain": [
       "                                                  text  \\\n",
       "14                       진짜 픽사영화를 보면 인생이 뭔지 다시 생각하게 된다   \n",
       "43   가족이 무엇인지 다시 생각하게 해주는 영화..아이들은 1도 안우는데 나만 눈물바다된...   \n",
       "366  아 그냥 진짜 최고다... 애니메이션 보면서 이렇게 울어본 적이 없는데ㅠㅠ 너무 감...   \n",
       "389                                사십중반에 애니메이션 보면서 울었다   \n",
       "416                                  펑펑 울었네요 너무 감동적이에요   \n",
       "\n",
       "                                           origin_text     감동     사랑     죽음  \\\n",
       "14                       진짜 픽사영화를 보면 인생이 뭔지 다시 생각하게 된다  False  False  False   \n",
       "43   관람객가족이 무엇인지 다시 생각하게 해주는 영화..아이들은 1도 안우는데 나만 눈물...  False  False  False   \n",
       "366  아 그냥 진짜 최고다... 애니메이션 보면서 이렇게 울어본 적이 없는데ㅠㅠ 너무 감...   True  False  False   \n",
       "389                                사십중반에 애니메이션 보면서 울었다  False  False  False   \n",
       "416                                  펑펑 울었네요 너무 감동적이에요   True  False  False   \n",
       "\n",
       "         울    할머니     아이     노래     픽사     추억     눈물  cluster  bcluster  \n",
       "14   False  False  False  False   True  False  False        0         8  \n",
       "43   False  False   True  False  False  False   True        0         8  \n",
       "366   True  False  False  False  False  False  False        0         8  \n",
       "389   True  False  False  False  False  False  False        0         8  \n",
       "416   True  False  False  False  False  False  False        0         8  "
      ]
     },
     "execution_count": 171,
     "metadata": {},
     "output_type": "execute_result"
    }
   ],
   "source": [
    "df[df[\"bcluster\"] == 8].head(5)"
   ]
  },
  {
   "cell_type": "code",
   "execution_count": 181,
   "metadata": {},
   "outputs": [
    {
     "data": {
      "text/html": [
       "<div>\n",
       "<style scoped>\n",
       "    .dataframe tbody tr th:only-of-type {\n",
       "        vertical-align: middle;\n",
       "    }\n",
       "\n",
       "    .dataframe tbody tr th {\n",
       "        vertical-align: top;\n",
       "    }\n",
       "\n",
       "    .dataframe thead th {\n",
       "        text-align: right;\n",
       "    }\n",
       "</style>\n",
       "<table border=\"1\" class=\"dataframe\">\n",
       "  <thead>\n",
       "    <tr style=\"text-align: right;\">\n",
       "      <th></th>\n",
       "      <th>bcluster</th>\n",
       "      <th>cluster</th>\n",
       "      <th>text</th>\n",
       "    </tr>\n",
       "  </thead>\n",
       "  <tbody>\n",
       "    <tr>\n",
       "      <th>3</th>\n",
       "      <td>13</td>\n",
       "      <td>6</td>\n",
       "      <td>사람이 진정으로 죽는 순간은 사랑하는 사람에게 잊혀졌을때..사랑하는 사람들을 영원히...</td>\n",
       "    </tr>\n",
       "    <tr>\n",
       "      <th>8</th>\n",
       "      <td>2</td>\n",
       "      <td>6</td>\n",
       "      <td>remember me... 내가 나중에 죽는다면 사후세계에 갔을때 울엄마아빠가 나 ...</td>\n",
       "    </tr>\n",
       "    <tr>\n",
       "      <th>130</th>\n",
       "      <td>2</td>\n",
       "      <td>6</td>\n",
       "      <td>이 영화 진짜 겨울왕국 주토피아 모아나를 이을 디즈니의 걸작입니다! 끝에 remem...</td>\n",
       "    </tr>\n",
       "    <tr>\n",
       "      <th>193</th>\n",
       "      <td>2</td>\n",
       "      <td>6</td>\n",
       "      <td>remember me</td>\n",
       "    </tr>\n",
       "    <tr>\n",
       "      <th>396</th>\n",
       "      <td>2</td>\n",
       "      <td>6</td>\n",
       "      <td>마마코코처럼 우리할머니도 어느덧 90살을 훌쩍넘어 이별을 준비해야하는 순간이 매 시...</td>\n",
       "    </tr>\n",
       "    <tr>\n",
       "      <th>399</th>\n",
       "      <td>2</td>\n",
       "      <td>6</td>\n",
       "      <td>remember me</td>\n",
       "    </tr>\n",
       "    <tr>\n",
       "      <th>435</th>\n",
       "      <td>2</td>\n",
       "      <td>6</td>\n",
       "      <td>코코할머니하고 'remember me'노래부르는 장면을 볼때마다 눈물이 나네요..정...</td>\n",
       "    </tr>\n",
       "    <tr>\n",
       "      <th>508</th>\n",
       "      <td>2</td>\n",
       "      <td>6</td>\n",
       "      <td>remember me~~ 가 아직도 귓가에 맴돌아요!!</td>\n",
       "    </tr>\n",
       "    <tr>\n",
       "      <th>544</th>\n",
       "      <td>2</td>\n",
       "      <td>6</td>\n",
       "      <td>remember me..</td>\n",
       "    </tr>\n",
       "    <tr>\n",
       "      <th>685</th>\n",
       "      <td>3</td>\n",
       "      <td>6</td>\n",
       "      <td>마지막에 remember me 노래 부를 때 울컥했네요. 영상미도 좋고, 노래가 특...</td>\n",
       "    </tr>\n",
       "    <tr>\n",
       "      <th>698</th>\n",
       "      <td>2</td>\n",
       "      <td>6</td>\n",
       "      <td>마음이 따뜻해지는 마마코코 remember me..</td>\n",
       "    </tr>\n",
       "    <tr>\n",
       "      <th>706</th>\n",
       "      <td>2</td>\n",
       "      <td>6</td>\n",
       "      <td>코코....제목이 왜 코코인줄 알게되는 순간 감동은 두배.  ost의 remembe...</td>\n",
       "    </tr>\n",
       "    <tr>\n",
       "      <th>770</th>\n",
       "      <td>2</td>\n",
       "      <td>6</td>\n",
       "      <td>remember me.. 어린 코코와 파파의 듀엣과 세월이 흘러 할머니가 된 코코와...</td>\n",
       "    </tr>\n",
       "    <tr>\n",
       "      <th>852</th>\n",
       "      <td>2</td>\n",
       "      <td>6</td>\n",
       "      <td>remember me!!</td>\n",
       "    </tr>\n",
       "    <tr>\n",
       "      <th>971</th>\n",
       "      <td>2</td>\n",
       "      <td>6</td>\n",
       "      <td>와 마지막에 눈물 펑펑. 픽사 작품은 언제나 제 스타일. 노래 remember me...</td>\n",
       "    </tr>\n",
       "    <tr>\n",
       "      <th>981</th>\n",
       "      <td>2</td>\n",
       "      <td>6</td>\n",
       "      <td>remember me... 이 노래 나올 때마다 울었어요 ㅠ..어른을 위한 영화인거...</td>\n",
       "    </tr>\n",
       "  </tbody>\n",
       "</table>\n",
       "</div>"
      ],
      "text/plain": [
       "     bcluster  cluster                                               text\n",
       "3          13        6  사람이 진정으로 죽는 순간은 사랑하는 사람에게 잊혀졌을때..사랑하는 사람들을 영원히...\n",
       "8           2        6  remember me... 내가 나중에 죽는다면 사후세계에 갔을때 울엄마아빠가 나 ...\n",
       "130         2        6  이 영화 진짜 겨울왕국 주토피아 모아나를 이을 디즈니의 걸작입니다! 끝에 remem...\n",
       "193         2        6                                        remember me\n",
       "396         2        6  마마코코처럼 우리할머니도 어느덧 90살을 훌쩍넘어 이별을 준비해야하는 순간이 매 시...\n",
       "399         2        6                                        remember me\n",
       "435         2        6  코코할머니하고 'remember me'노래부르는 장면을 볼때마다 눈물이 나네요..정...\n",
       "508         2        6                     remember me~~ 가 아직도 귓가에 맴돌아요!!\n",
       "544         2        6                                      remember me..\n",
       "685         3        6  마지막에 remember me 노래 부를 때 울컥했네요. 영상미도 좋고, 노래가 특...\n",
       "698         2        6                       마음이 따뜻해지는 마마코코 remember me..\n",
       "706         2        6  코코....제목이 왜 코코인줄 알게되는 순간 감동은 두배.  ost의 remembe...\n",
       "770         2        6  remember me.. 어린 코코와 파파의 듀엣과 세월이 흘러 할머니가 된 코코와...\n",
       "852         2        6                                      remember me!!\n",
       "971         2        6  와 마지막에 눈물 펑펑. 픽사 작품은 언제나 제 스타일. 노래 remember me...\n",
       "981         2        6  remember me... 이 노래 나올 때마다 울었어요 ㅠ..어른을 위한 영화인거..."
      ]
     },
     "execution_count": 181,
     "metadata": {},
     "output_type": "execute_result"
    }
   ],
   "source": [
    "df.loc[df[\"cluster\"]==6, [\"bcluster\", \"cluster\", \"text\"]]"
   ]
  },
  {
   "cell_type": "code",
   "execution_count": null,
   "metadata": {},
   "outputs": [],
   "source": []
  }
 ],
 "metadata": {
  "kernelspec": {
   "display_name": "Python 3",
   "language": "python",
   "name": "python3"
  },
  "language_info": {
   "codemirror_mode": {
    "name": "ipython",
    "version": 3
   },
   "file_extension": ".py",
   "mimetype": "text/x-python",
   "name": "python",
   "nbconvert_exporter": "python",
   "pygments_lexer": "ipython3",
   "version": "3.8.3"
  }
 },
 "nbformat": 4,
 "nbformat_minor": 4
}
